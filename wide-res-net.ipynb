{
 "cells": [
  {
   "cell_type": "markdown",
   "metadata": {},
   "source": [
    "# Deep Fake Detection. Wide ResNet 50-2"
   ]
  },
  {
   "cell_type": "code",
   "execution_count": 2,
   "metadata": {},
   "outputs": [],
   "source": [
    "import torch\n",
    "import torch.nn as nn\n",
    "import torch.nn.functional as F\n",
    "import torch.optim as optim\n",
    "import torchvision\n",
    "from torchvision import models\n",
    "import torchvision.transforms as transforms\n",
    "\n",
    "from torch.optim import lr_scheduler\n",
    "\n",
    "from torch.utils.data import random_split, DataLoader\n",
    "from dataset_handlers.feature_dataset import FeatureDataset\n",
    "\n",
    "import os\n",
    "from PIL import Image\n",
    "from matplotlib import pyplot as plt"
   ]
  },
  {
   "cell_type": "markdown",
   "metadata": {},
   "source": [
    "El modelo Wide ResNet es una arquitectura de red neuronal convolucional que se basa en la idea de mejorar la profundidad de las redes ResNet al hacerlas más anchas. Fue propuesto como una extensión de la arquitectura ResNet con el objetivo de abordar problemas de degradación y facilitar el entrenamiento de redes más profundas.\n",
    "\n",
    "En lugar de simplemente aumentar la profundidad de la red, el modelo Wide ResNet aumenta la cantidad de canales en cada capa. Esto se logra mediante la introducción de un factor de multiplicación llamado \"ancho\" (width), que determina la cantidad de canales en comparación con la versión original de la red. El aumento en el ancho permite que la red aprenda características más diversas y complejas, mejorando así su capacidad de generalización.\n",
    "\n",
    "Para más información sobre el modelo Wide ResNet, se puede consultar el siguiente artículo: [Wide Residual Networks](https://arxiv.org/abs/1605.07146)"
   ]
  },
  {
   "cell_type": "markdown",
   "metadata": {},
   "source": [
    "Este modelo puede cargarse preentrenado para el dataset de ImageNet directamente desde Pytorch de la siguiente manera:"
   ]
  },
  {
   "cell_type": "code",
   "execution_count": 27,
   "metadata": {},
   "outputs": [],
   "source": [
    "wide_resnet50_2 = models.wide_resnet50_2(weights='Wide_ResNet50_2_Weights.IMAGENET1K_V1')"
   ]
  },
  {
   "cell_type": "markdown",
   "metadata": {},
   "source": [
    "## Fine Tuning"
   ]
  },
  {
   "cell_type": "code",
   "execution_count": 77,
   "metadata": {},
   "outputs": [],
   "source": [
    "model = nn.Sequential(\n",
    "    wide_resnet50_2.layer4,\n",
    "    wide_resnet50_2.avgpool,\n",
    "    nn.Flatten(),\n",
    "    nn.Dropout(0.5),\n",
    "    nn.Linear(2048, 2)\n",
    ")"
   ]
  },
  {
   "cell_type": "markdown",
   "metadata": {},
   "source": [
    "Comenzamos el proceso de entrenamiento"
   ]
  },
  {
   "cell_type": "code",
   "execution_count": 38,
   "metadata": {},
   "outputs": [],
   "source": [
    "device = torch.device(\"cuda:0\" if torch.cuda.is_available() else \"cpu\")"
   ]
  },
  {
   "cell_type": "code",
   "execution_count": 69,
   "metadata": {},
   "outputs": [],
   "source": [
    "def accuracy(data_loader, model, transform):\n",
    "    acc = 0\n",
    "    for i, (image, label) in enumerate(data_loader, 1):\n",
    "        image = image.to(device)\n",
    "        label = label.to(device)\n",
    "\n",
    "        image = transform(image)\n",
    "\n",
    "        output = model(image).reshape(-1, 2)\n",
    "        acc += (torch.argmax(output, dim=1) == label).sum().item()\n",
    "\n",
    "    return acc / len(data_loader.dataset)"
   ]
  },
  {
   "cell_type": "code",
   "execution_count": 70,
   "metadata": {},
   "outputs": [],
   "source": [
    "def train_model(model, transform, criterion, optimizer, epochs, acc_training_set, acc_val_set, l1_factor, train_loader, val_loader):\n",
    "    for epoch in range(epochs):\n",
    "        for i, (image, label) in enumerate(train_loader, 1):\n",
    "            image = image.to(device)\n",
    "            label = label.to(device)\n",
    "\n",
    "            image = transform(image)\n",
    "            output = model(image)\n",
    "\n",
    "            loss = criterion(output, label)\n",
    "\n",
    "            l1_regularization = torch.tensor(0., requires_grad=False)\n",
    "            for param in model.parameters():\n",
    "                l1_regularization += torch.norm(param, 1)\n",
    "\n",
    "            l1_regularization.requires_grad_(True)\n",
    "            loss += l1_factor * l1_regularization\n",
    "\n",
    "            optimizer.zero_grad()\n",
    "            loss.backward()\n",
    "            optimizer.step()\n",
    "\n",
    "            if i % 10 == 0:\n",
    "                acc_training_set.append(accuracy(train_loader, model, transform))\n",
    "                acc_val_set.append(accuracy(val_loader, model, transform))\n",
    "\n",
    "                print('Epoch: {:2.0f}/{}, Batch: {:3.0f}, Loss: {:.6f}, Acc (train): {:.6f}, Acc (val): {:.6f}'\n",
    "                      .format(epoch+1, epochs, i, loss.item(), acc_training_set[-1], acc_val_set[-1]))"
   ]
  },
  {
   "cell_type": "code",
   "execution_count": 41,
   "metadata": {},
   "outputs": [],
   "source": [
    "epochs = 10\n",
    "l1_factor = 0.001\n",
    "l2_factor = 0.1"
   ]
  },
  {
   "cell_type": "code",
   "execution_count": 42,
   "metadata": {},
   "outputs": [],
   "source": [
    "critereon = nn.CrossEntropyLoss()\n",
    "optimizer = optim.Adam(model.parameters(), lr=0.001, weight_decay=l2_factor)"
   ]
  },
  {
   "cell_type": "code",
   "execution_count": 59,
   "metadata": {},
   "outputs": [],
   "source": [
    "def transform(image):\n",
    "    return image.reshape(-1, 1024, 14, 14)"
   ]
  },
  {
   "cell_type": "code",
   "execution_count": 45,
   "metadata": {},
   "outputs": [
    {
     "name": "stdout",
     "output_type": "stream",
     "text": [
      "Training model for Fold:  1\n",
      "Epoch:  1/10, Batch:  10, Loss: 8.996345, Acc (train): 0.463739, Acc (val): 0.467347\n",
      "Epoch:  1/10, Batch:  20, Loss: 8.756674, Acc (train): 0.634321, Acc (val): 0.603061\n",
      "Epoch:  1/10, Batch:  30, Loss: 8.282947, Acc (train): 0.696118, Acc (val): 0.643878\n",
      "Epoch:  2/10, Batch:  10, Loss: 8.130583, Acc (train): 0.724464, Acc (val): 0.673469\n",
      "Epoch:  2/10, Batch:  20, Loss: 8.008567, Acc (train): 0.717824, Acc (val): 0.653061\n",
      "Epoch:  2/10, Batch:  30, Loss: 7.839174, Acc (train): 0.736721, Acc (val): 0.685714\n",
      "Epoch:  3/10, Batch:  10, Loss: 7.629067, Acc (train): 0.775792, Acc (val): 0.671429\n",
      "Epoch:  3/10, Batch:  20, Loss: 7.422189, Acc (train): 0.773238, Acc (val): 0.697959\n",
      "Epoch:  3/10, Batch:  30, Loss: 7.374764, Acc (train): 0.764300, Acc (val): 0.677551\n",
      "Epoch:  4/10, Batch:  10, Loss: 7.164130, Acc (train): 0.804648, Acc (val): 0.715306\n",
      "Epoch:  4/10, Batch:  20, Loss: 7.169055, Acc (train): 0.773238, Acc (val): 0.684694\n",
      "Epoch:  4/10, Batch:  30, Loss: 7.085823, Acc (train): 0.816139, Acc (val): 0.701020\n",
      "Epoch:  5/10, Batch:  10, Loss: 6.858755, Acc (train): 0.846016, Acc (val): 0.700000\n",
      "Epoch:  5/10, Batch:  20, Loss: 6.920845, Acc (train): 0.837079, Acc (val): 0.691837\n",
      "Epoch:  5/10, Batch:  30, Loss: 6.850496, Acc (train): 0.857508, Acc (val): 0.715306\n",
      "Epoch:  6/10, Batch:  10, Loss: 6.716568, Acc (train): 0.871553, Acc (val): 0.702041\n",
      "Epoch:  6/10, Batch:  20, Loss: 6.708911, Acc (train): 0.889683, Acc (val): 0.703061\n",
      "Epoch:  6/10, Batch:  30, Loss: 6.647451, Acc (train): 0.891726, Acc (val): 0.710204\n",
      "Epoch:  7/10, Batch:  10, Loss: 6.579087, Acc (train): 0.913177, Acc (val): 0.698980\n",
      "Epoch:  7/10, Batch:  20, Loss: 6.406885, Acc (train): 0.916496, Acc (val): 0.730612\n",
      "Epoch:  7/10, Batch:  30, Loss: 6.666978, Acc (train): 0.918029, Acc (val): 0.713265\n",
      "Epoch:  8/10, Batch:  10, Loss: 6.401840, Acc (train): 0.928754, Acc (val): 0.697959\n",
      "Epoch:  8/10, Batch:  20, Loss: 6.337787, Acc (train): 0.934883, Acc (val): 0.715306\n",
      "Epoch:  8/10, Batch:  30, Loss: 6.569373, Acc (train): 0.929520, Acc (val): 0.696939\n",
      "Epoch:  9/10, Batch:  10, Loss: 6.214193, Acc (train): 0.944331, Acc (val): 0.707143\n",
      "Epoch:  9/10, Batch:  20, Loss: 6.268497, Acc (train): 0.950204, Acc (val): 0.715306\n",
      "Epoch:  9/10, Batch:  30, Loss: 6.162058, Acc (train): 0.955567, Acc (val): 0.710204\n",
      "Epoch: 10/10, Batch:  10, Loss: 6.178195, Acc (train): 0.953013, Acc (val): 0.721429\n",
      "Epoch: 10/10, Batch:  20, Loss: 6.211924, Acc (train): 0.953779, Acc (val): 0.709184\n",
      "Epoch: 10/10, Batch:  30, Loss: 6.136548, Acc (train): 0.959908, Acc (val): 0.710204\n"
     ]
    }
   ],
   "source": [
    "acc_training_set = []\n",
    "acc_val_set = []\n",
    "\n",
    "for fold in range(1):\n",
    "    print(\"Training model for Fold: \", fold+1)\n",
    "    dataset = FeatureDataset(f\"data/splitted/train_widerestnet_data_augmentation/train_{fold}/\")\n",
    "\n",
    "    train_size = int(0.8 * len(dataset))\n",
    "    val_size = len(dataset) - train_size\n",
    "    train_dataset, val_dataset = random_split(dataset, [train_size, val_size])\n",
    "\n",
    "    train_loader = DataLoader(dataset=train_dataset, batch_size=120, shuffle=True)\n",
    "    val_loader = DataLoader(dataset=val_dataset, batch_size=32, shuffle=True)\n",
    "\n",
    "    train_model(model, transform, critereon, optimizer, epochs, acc_training_set, acc_val_set, l1_factor, train_loader, val_loader)"
   ]
  },
  {
   "cell_type": "code",
   "execution_count": 56,
   "metadata": {},
   "outputs": [],
   "source": [
    "model.eval();"
   ]
  },
  {
   "cell_type": "code",
   "execution_count": 55,
   "metadata": {},
   "outputs": [
    {
     "name": "stdout",
     "output_type": "stream",
     "text": [
      "Accuracy on test set:  0.687041564792176\n"
     ]
    }
   ],
   "source": [
    "test_dataset = FeatureDataset(\"data/splitted/test_widerestnet/test/\")\n",
    "test_loader = DataLoader(dataset=test_dataset, batch_size=32, shuffle=True)\n",
    "\n",
    "print(\"Accuracy on test set: \", accuracy(test_loader, model, transform))"
   ]
  },
  {
   "cell_type": "markdown",
   "metadata": {},
   "source": [
    "Por último, visualizamos los resultados en una matriz de confusión"
   ]
  },
  {
   "cell_type": "code",
   "execution_count": 61,
   "metadata": {},
   "outputs": [
    {
     "name": "stdout",
     "output_type": "stream",
     "text": [
      "F1 Score:  0.7229437229437229\n",
      "Recall:  0.7695852534562212\n",
      "Precision:  0.6816326530612244\n",
      "Accuracy:  0.687041564792176\n"
     ]
    }
   ],
   "source": [
    "from sklearn.metrics import confusion_matrix\n",
    "\n",
    "y_true = []\n",
    "y_pred = []\n",
    "\n",
    "for i, (image, label) in enumerate(test_loader, 1):\n",
    "    image = image.to(device)\n",
    "    label = label.to(device)\n",
    "\n",
    "    image = transform(image)\n",
    "\n",
    "    output = model(image)\n",
    "    y_pred.extend(torch.argmax(output, dim=1).tolist())\n",
    "    y_true.extend(label.tolist())\n",
    "\n",
    "cm = confusion_matrix(y_true, y_pred)\n",
    "f1_score = 2 * cm[1][1] / (2 * cm[1][1] + cm[0][1] + cm[1][0])\n",
    "print(\"F1 Score: \", f1_score)\n",
    "\n",
    "recall = cm[1][1] / (cm[1][1] + cm[1][0])\n",
    "print(\"Recall: \", recall)\n",
    "\n",
    "precision = cm[1][1] / (cm[1][1] + cm[0][1])\n",
    "print(\"Precision: \", precision)\n",
    "\n",
    "acc = (cm[0][0] + cm[1][1]) / (cm[0][0] + cm[1][1] + cm[0][1] + cm[1][0])\n",
    "print(\"Accuracy: \", acc)"
   ]
  },
  {
   "attachments": {
    "wide_resnet_cm.png": {
     "image/png": "[encoded data removed]"
    }
   },
   "cell_type": "markdown",
   "metadata": {},
   "source": [
    "![wide_resnet_cm.png](attachment:wide_resnet_cm.png)"
   ]
  },
  {
   "cell_type": "markdown",
   "metadata": {},
   "source": [
    "Podemos ver como hemos obtenido unos resultados bastante buenos, pues pese a haber obtenido un ```accuracy``` del 68.7% en el conjunto de test, obtuvimos un ```recall``` del 77%, una ```precision``` del 68.1% y un ```f1-score``` del 72.3% en la detección de deep fakes."
   ]
  },
  {
   "cell_type": "code",
   "execution_count": 63,
   "metadata": {},
   "outputs": [],
   "source": [
    "torch.save(model.state_dict(), \"models/wide_resnet50_2_10_epochs.pt\")"
   ]
  }
 ],
 "metadata": {
  "kernelspec": {
   "display_name": "aa1",
   "language": "python",
   "name": "python3"
  },
  "language_info": {
   "codemirror_mode": {
    "name": "ipython",
    "version": 3
   },
   "file_extension": ".py",
   "mimetype": "text/x-python",
   "name": "python",
   "nbconvert_exporter": "python",
   "pygments_lexer": "ipython3",
   "version": "3.9.16"
  }
 },
 "nbformat": 4,
 "nbformat_minor": 2
}
