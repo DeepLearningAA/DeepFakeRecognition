{
 "cells": [
  {
   "cell_type": "markdown",
   "metadata": {},
   "source": [
    "# Deep Fake Detection. MobileNetV2"
   ]
  },
  {
   "cell_type": "code",
   "execution_count": 1,
   "metadata": {},
   "outputs": [],
   "source": [
    "import torch\n",
    "import torch.nn as nn\n",
    "import torch.nn.functional as F\n",
    "import torch.optim as optim\n",
    "import torchvision\n",
    "from torchvision import models\n",
    "import torchvision.transforms as transforms\n",
    "\n",
    "from torch.optim import lr_scheduler\n",
    "\n",
    "from torch.utils.data import random_split, DataLoader\n",
    "from dataset_handlers.feature_dataset import FeatureDataset\n",
    "\n",
    "import os\n",
    "from PIL import Image\n",
    "from matplotlib import pyplot as plt"
   ]
  },
  {
   "cell_type": "markdown",
   "metadata": {},
   "source": [
    "MobileNet es una red neuronal convolucional desarrollada por Google. Está diseñada para ser ejecutada en dispositivos con recursos limitados, como teléfonos móviles. Es una red neuronal muy eficiente, ya que tiene menos parámetros que otras redes neuronales convolucionales similares, como VGG16 o ResNet50. Esto hace que sea una red neuronal más rápida y que ocupe menos espacio en memoria.\n",
    "\n",
    "Sus componentes principales son los bloques de convolución separables en profundidad (depthwise separable convolution blocks). Estos bloques están formados por dos capas: una capa de convolución convencional y una capa de convolución 1x1. La primera capa se encarga de realizar la convolución, mientras que la segunda capa se encarga de combinar los resultados de la primera capa. Esto permite reducir el número de parámetros de la red neuronal, ya que la capa de convolución 1x1 tiene menos parámetros que la capa de convolución convencional.\n",
    "\n",
    "Para más información sobre MobileNet, se puede consultar el siguiente artículo: [MobileNets: Efficient Convolutional Neural Networks for Mobile Vision Applications](https://arxiv.org/pdf/1704.04861.pdf)."
   ]
  },
  {
   "cell_type": "markdown",
   "metadata": {},
   "source": [
    "Cargamos el modelo directamente desde Pytorch, ya con los pesos preentrenados en ImageNet."
   ]
  },
  {
   "cell_type": "code",
   "execution_count": 2,
   "metadata": {},
   "outputs": [
    {
     "name": "stderr",
     "output_type": "stream",
     "text": [
      "Using cache found in C:\\Users\\carde/.cache\\torch\\hub\\pytorch_vision_v0.6.0\n"
     ]
    }
   ],
   "source": [
    "model = torch.hub.load('pytorch/vision:v0.6.0', 'mobilenet_v2', weights='MobileNet_V2_Weights.IMAGENET1K_V1')"
   ]
  },
  {
   "cell_type": "markdown",
   "metadata": {},
   "source": [
    "# Fine Tuning"
   ]
  },
  {
   "cell_type": "markdown",
   "metadata": {},
   "source": [
    "Definimos el modelo, sabiendo que disponemos el dataset de características extraídas de las primeras capas (hasta la 15)"
   ]
  },
  {
   "cell_type": "code",
   "execution_count": 3,
   "metadata": {},
   "outputs": [],
   "source": [
    "classifier = nn.Sequential(\n",
    "    nn.Linear(1280, 512),\n",
    "    nn.ReLU(),\n",
    "    nn.Dropout(0.2),\n",
    "    nn.Linear(512, 256),\n",
    "    nn.ReLU(),\n",
    "    nn.Dropout(0.2),\n",
    "    nn.Linear(256, 2)\n",
    ")"
   ]
  },
  {
   "cell_type": "code",
   "execution_count": 4,
   "metadata": {},
   "outputs": [],
   "source": [
    "model = nn.Sequential(\n",
    "    model.features[16:],\n",
    "    nn.AdaptiveAvgPool2d(1),\n",
    "    nn.Flatten(),\n",
    "    classifier\n",
    ")"
   ]
  },
  {
   "cell_type": "markdown",
   "metadata": {},
   "source": [
    "Definimos ahora el número de épocas y el factor de regularización L1, así como el número de folds"
   ]
  },
  {
   "cell_type": "code",
   "execution_count": 5,
   "metadata": {},
   "outputs": [],
   "source": [
    "num_epochs = 10\n",
    "l1_factor = 0.0001\n",
    "\n",
    "k_folds = 5"
   ]
  },
  {
   "cell_type": "markdown",
   "metadata": {},
   "source": [
    "Utilizamos el optimizador Adam, con una tasa de aprendizaje de 0.0001, y una función de pérdida de entropía cruzada"
   ]
  },
  {
   "cell_type": "code",
   "execution_count": 33,
   "metadata": {},
   "outputs": [],
   "source": [
    "criterion = nn.CrossEntropyLoss()\n",
    "optimizer = optim.Adam(model.parameters(), lr=0.0001)"
   ]
  },
  {
   "cell_type": "markdown",
   "metadata": {},
   "source": [
    "Y comenzamos el proceso de entrenamiento"
   ]
  },
  {
   "cell_type": "code",
   "execution_count": 34,
   "metadata": {},
   "outputs": [],
   "source": [
    "device = torch.device(\"cuda:0\" if torch.cuda.is_available() else \"cpu\")"
   ]
  },
  {
   "cell_type": "code",
   "execution_count": 7,
   "metadata": {},
   "outputs": [],
   "source": [
    "def accuracy(data_loader, model):\n",
    "    acc = 0\n",
    "    for i, (image, label) in enumerate(data_loader, 1):\n",
    "        image = image.to(device)\n",
    "        label = label.to(device)\n",
    "\n",
    "        image = image.reshape(-1, 160, 7, 7)\n",
    "\n",
    "        output = model(image).reshape(-1, 2)\n",
    "        acc += (torch.argmax(output, dim=1) == label).sum().item()\n",
    "\n",
    "    return acc / len(data_loader.dataset)"
   ]
  },
  {
   "cell_type": "code",
   "execution_count": 8,
   "metadata": {},
   "outputs": [],
   "source": [
    "def train_model(model, acc_training_set, acc_val_set, l1_factor, train_loader, val_loader):\n",
    "    for epoch in range(num_epochs):\n",
    "        for i, (image, label) in enumerate(train_loader, 1):\n",
    "            image = image.to(device)\n",
    "            label = label.to(device)\n",
    "\n",
    "            image = image.reshape(-1, 160, 7, 7)\n",
    "\n",
    "            output = model(image)\n",
    "\n",
    "            loss = criterion(output, label)\n",
    "\n",
    "            l1_regularization = torch.tensor(0., requires_grad=False)\n",
    "            for param in model.parameters():\n",
    "                l1_regularization += torch.norm(param, 1)\n",
    "\n",
    "            l1_regularization.requires_grad_(True)\n",
    "            loss += l1_factor * l1_regularization\n",
    "\n",
    "            optimizer.zero_grad()\n",
    "            loss.backward()\n",
    "            optimizer.step()\n",
    "\n",
    "            if i % 10 == 0:\n",
    "                acc_training_set.append(accuracy(train_loader, model))\n",
    "                acc_val_set.append(accuracy(val_loader, model))\n",
    "\n",
    "                print('Epoch: {}/{}, Batch: {}, Loss: {:.6f}, Acc (train): {:.6f}, Acc (val): {:.6f}'\n",
    "                      .format(epoch+1, num_epochs, i, loss.item(), acc_training_set[-1], acc_val_set[-1]))"
   ]
  },
  {
   "cell_type": "code",
   "execution_count": 12,
   "metadata": {},
   "outputs": [
    {
     "name": "stdout",
     "output_type": "stream",
     "text": [
      "Training model for Fold:  1\n",
      "Epoch: 1/10, Batch: 10, Loss: 6.118009, Acc (train): 0.527969, Acc (val): 0.519878\n",
      "Epoch: 1/10, Batch: 20, Loss: 6.006377, Acc (train): 0.674330, Acc (val): 0.593272\n",
      "Epoch: 2/10, Batch: 10, Loss: 5.866405, Acc (train): 0.644444, Acc (val): 0.596330\n",
      "Epoch: 2/10, Batch: 20, Loss: 5.746696, Acc (train): 0.708812, Acc (val): 0.608563\n",
      "Epoch: 3/10, Batch: 10, Loss: 5.632006, Acc (train): 0.737931, Acc (val): 0.629969\n",
      "Epoch: 3/10, Batch: 20, Loss: 5.545213, Acc (train): 0.789272, Acc (val): 0.593272\n",
      "Epoch: 4/10, Batch: 10, Loss: 5.330742, Acc (train): 0.827586, Acc (val): 0.642202\n",
      "Epoch: 4/10, Batch: 20, Loss: 5.402809, Acc (train): 0.879693, Acc (val): 0.608563\n",
      "Epoch: 5/10, Batch: 10, Loss: 5.181638, Acc (train): 0.924138, Acc (val): 0.608563\n",
      "Epoch: 5/10, Batch: 20, Loss: 5.025723, Acc (train): 0.956322, Acc (val): 0.614679\n",
      "Epoch: 6/10, Batch: 10, Loss: 4.895232, Acc (train): 0.971648, Acc (val): 0.596330\n",
      "Epoch: 6/10, Batch: 20, Loss: 4.910585, Acc (train): 0.987739, Acc (val): 0.617737\n",
      "Epoch: 7/10, Batch: 10, Loss: 4.717335, Acc (train): 0.996169, Acc (val): 0.596330\n",
      "Epoch: 7/10, Batch: 20, Loss: 4.714924, Acc (train): 0.997701, Acc (val): 0.565749\n",
      "Epoch: 8/10, Batch: 10, Loss: 4.588724, Acc (train): 0.995402, Acc (val): 0.584098\n",
      "Epoch: 8/10, Batch: 20, Loss: 4.542827, Acc (train): 0.998467, Acc (val): 0.574924\n",
      "Epoch: 9/10, Batch: 10, Loss: 4.491673, Acc (train): 0.999234, Acc (val): 0.581040\n",
      "Epoch: 9/10, Batch: 20, Loss: 4.445582, Acc (train): 1.000000, Acc (val): 0.577982\n",
      "Epoch: 10/10, Batch: 10, Loss: 4.396795, Acc (train): 0.997701, Acc (val): 0.590214\n",
      "Epoch: 10/10, Batch: 20, Loss: 4.353285, Acc (train): 1.000000, Acc (val): 0.587156\n",
      "Training model for Fold:  2\n",
      "Epoch: 1/10, Batch: 10, Loss: 5.120960, Acc (train): 0.754023, Acc (val): 0.672783\n",
      "Epoch: 1/10, Batch: 20, Loss: 4.971554, Acc (train): 0.803065, Acc (val): 0.654434\n",
      "Epoch: 2/10, Batch: 10, Loss: 4.751113, Acc (train): 0.824521, Acc (val): 0.672783\n",
      "Epoch: 2/10, Batch: 20, Loss: 4.576701, Acc (train): 0.865134, Acc (val): 0.691131\n",
      "Epoch: 3/10, Batch: 10, Loss: 4.485831, Acc (train): 0.911877, Acc (val): 0.700306\n",
      "Epoch: 3/10, Batch: 20, Loss: 4.629282, Acc (train): 0.945594, Acc (val): 0.675841\n",
      "Epoch: 4/10, Batch: 10, Loss: 4.283007, Acc (train): 0.971648, Acc (val): 0.678899\n",
      "Epoch: 4/10, Batch: 20, Loss: 4.203471, Acc (train): 0.988506, Acc (val): 0.678899\n",
      "Epoch: 5/10, Batch: 10, Loss: 4.116235, Acc (train): 0.993103, Acc (val): 0.645260\n",
      "Epoch: 5/10, Batch: 20, Loss: 4.083015, Acc (train): 0.996935, Acc (val): 0.648318\n",
      "Epoch: 6/10, Batch: 10, Loss: 4.048270, Acc (train): 0.999234, Acc (val): 0.629969\n",
      "Epoch: 6/10, Batch: 20, Loss: 4.000947, Acc (train): 0.999234, Acc (val): 0.654434\n",
      "Epoch: 7/10, Batch: 10, Loss: 3.967452, Acc (train): 0.999234, Acc (val): 0.678899\n",
      "Epoch: 7/10, Batch: 20, Loss: 3.939835, Acc (train): 1.000000, Acc (val): 0.651376\n",
      "Epoch: 8/10, Batch: 10, Loss: 3.910497, Acc (train): 1.000000, Acc (val): 0.654434\n",
      "Epoch: 8/10, Batch: 20, Loss: 3.884839, Acc (train): 1.000000, Acc (val): 0.663609\n",
      "Epoch: 9/10, Batch: 10, Loss: 3.855072, Acc (train): 1.000000, Acc (val): 0.654434\n",
      "Epoch: 9/10, Batch: 20, Loss: 3.827703, Acc (train): 1.000000, Acc (val): 0.675841\n",
      "Epoch: 10/10, Batch: 10, Loss: 3.799319, Acc (train): 1.000000, Acc (val): 0.648318\n",
      "Epoch: 10/10, Batch: 20, Loss: 3.774461, Acc (train): 1.000000, Acc (val): 0.675841\n",
      "Training model for Fold:  3\n",
      "Epoch: 1/10, Batch: 10, Loss: 4.510392, Acc (train): 0.813793, Acc (val): 0.730887\n",
      "Epoch: 1/10, Batch: 20, Loss: 4.338676, Acc (train): 0.867433, Acc (val): 0.752294\n",
      "Epoch: 2/10, Batch: 10, Loss: 4.177732, Acc (train): 0.888889, Acc (val): 0.773700\n",
      "Epoch: 2/10, Batch: 20, Loss: 3.986285, Acc (train): 0.926437, Acc (val): 0.752294\n",
      "Epoch: 3/10, Batch: 10, Loss: 3.823831, Acc (train): 0.954023, Acc (val): 0.743119\n",
      "Epoch: 3/10, Batch: 20, Loss: 3.794865, Acc (train): 0.967050, Acc (val): 0.770642\n",
      "Epoch: 4/10, Batch: 10, Loss: 3.778602, Acc (train): 0.991571, Acc (val): 0.749235\n",
      "Epoch: 4/10, Batch: 20, Loss: 3.658951, Acc (train): 0.990038, Acc (val): 0.743119\n",
      "Epoch: 5/10, Batch: 10, Loss: 3.650202, Acc (train): 0.996169, Acc (val): 0.743119\n",
      "Epoch: 5/10, Batch: 20, Loss: 3.608501, Acc (train): 0.998467, Acc (val): 0.730887\n",
      "Epoch: 6/10, Batch: 10, Loss: 3.582082, Acc (train): 0.999234, Acc (val): 0.740061\n",
      "Epoch: 6/10, Batch: 20, Loss: 3.596597, Acc (train): 0.999234, Acc (val): 0.733945\n",
      "Epoch: 7/10, Batch: 10, Loss: 3.549223, Acc (train): 1.000000, Acc (val): 0.752294\n",
      "Epoch: 7/10, Batch: 20, Loss: 3.516846, Acc (train): 1.000000, Acc (val): 0.746177\n",
      "Epoch: 8/10, Batch: 10, Loss: 3.493337, Acc (train): 1.000000, Acc (val): 0.743119\n",
      "Epoch: 8/10, Batch: 20, Loss: 3.475573, Acc (train): 1.000000, Acc (val): 0.740061\n",
      "Epoch: 9/10, Batch: 10, Loss: 3.456586, Acc (train): 1.000000, Acc (val): 0.749235\n",
      "Epoch: 9/10, Batch: 20, Loss: 3.437811, Acc (train): 1.000000, Acc (val): 0.746177\n",
      "Epoch: 10/10, Batch: 10, Loss: 3.418487, Acc (train): 1.000000, Acc (val): 0.749235\n",
      "Epoch: 10/10, Batch: 20, Loss: 3.400354, Acc (train): 1.000000, Acc (val): 0.746177\n",
      "Training model for Fold:  4\n",
      "Epoch: 1/10, Batch: 10, Loss: 4.158912, Acc (train): 0.817625, Acc (val): 0.755352\n",
      "Epoch: 1/10, Batch: 20, Loss: 3.799086, Acc (train): 0.898084, Acc (val): 0.770642\n",
      "Epoch: 2/10, Batch: 10, Loss: 3.690986, Acc (train): 0.924904, Acc (val): 0.758410\n",
      "Epoch: 2/10, Batch: 20, Loss: 3.546297, Acc (train): 0.950958, Acc (val): 0.749235\n",
      "Epoch: 3/10, Batch: 10, Loss: 3.484546, Acc (train): 0.972414, Acc (val): 0.764526\n",
      "Epoch: 3/10, Batch: 20, Loss: 3.473496, Acc (train): 0.973180, Acc (val): 0.767584\n",
      "Epoch: 4/10, Batch: 10, Loss: 3.349535, Acc (train): 0.993870, Acc (val): 0.733945\n",
      "Epoch: 4/10, Batch: 20, Loss: 3.335846, Acc (train): 1.000000, Acc (val): 0.752294\n",
      "Epoch: 5/10, Batch: 10, Loss: 3.295016, Acc (train): 0.998467, Acc (val): 0.764526\n",
      "Epoch: 5/10, Batch: 20, Loss: 3.271033, Acc (train): 1.000000, Acc (val): 0.755352\n",
      "Epoch: 6/10, Batch: 10, Loss: 3.253520, Acc (train): 1.000000, Acc (val): 0.743119\n",
      "Epoch: 6/10, Batch: 20, Loss: 3.237969, Acc (train): 1.000000, Acc (val): 0.749235\n",
      "Epoch: 7/10, Batch: 10, Loss: 3.222461, Acc (train): 1.000000, Acc (val): 0.743119\n",
      "Epoch: 7/10, Batch: 20, Loss: 3.205602, Acc (train): 1.000000, Acc (val): 0.749235\n",
      "Epoch: 8/10, Batch: 10, Loss: 3.188897, Acc (train): 1.000000, Acc (val): 0.752294\n",
      "Epoch: 8/10, Batch: 20, Loss: 3.174858, Acc (train): 1.000000, Acc (val): 0.740061\n",
      "Epoch: 9/10, Batch: 10, Loss: 3.162341, Acc (train): 1.000000, Acc (val): 0.730887\n",
      "Epoch: 9/10, Batch: 20, Loss: 3.143771, Acc (train): 1.000000, Acc (val): 0.749235\n",
      "Epoch: 10/10, Batch: 10, Loss: 3.129762, Acc (train): 1.000000, Acc (val): 0.755352\n",
      "Epoch: 10/10, Batch: 20, Loss: 3.115482, Acc (train): 1.000000, Acc (val): 0.752294\n",
      "Training model for Fold:  5\n",
      "Epoch: 1/10, Batch: 10, Loss: 3.836616, Acc (train): 0.841379, Acc (val): 0.792049\n",
      "Epoch: 1/10, Batch: 20, Loss: 3.516368, Acc (train): 0.892720, Acc (val): 0.810398\n",
      "Epoch: 2/10, Batch: 10, Loss: 3.332531, Acc (train): 0.940996, Acc (val): 0.755352\n",
      "Epoch: 2/10, Batch: 20, Loss: 3.309544, Acc (train): 0.968582, Acc (val): 0.773700\n",
      "Epoch: 3/10, Batch: 10, Loss: 3.136889, Acc (train): 0.985441, Acc (val): 0.792049\n",
      "Epoch: 3/10, Batch: 20, Loss: 3.151565, Acc (train): 0.993103, Acc (val): 0.785933\n",
      "Epoch: 4/10, Batch: 10, Loss: 3.078800, Acc (train): 0.998467, Acc (val): 0.770642\n",
      "Epoch: 4/10, Batch: 20, Loss: 3.053404, Acc (train): 0.999234, Acc (val): 0.785933\n",
      "Epoch: 5/10, Batch: 10, Loss: 3.036959, Acc (train): 0.998467, Acc (val): 0.773700\n",
      "Epoch: 5/10, Batch: 20, Loss: 3.022712, Acc (train): 0.998467, Acc (val): 0.779817\n",
      "Epoch: 6/10, Batch: 10, Loss: 3.002627, Acc (train): 1.000000, Acc (val): 0.788991\n",
      "Epoch: 6/10, Batch: 20, Loss: 2.985687, Acc (train): 1.000000, Acc (val): 0.792049\n",
      "Epoch: 7/10, Batch: 10, Loss: 2.971749, Acc (train): 1.000000, Acc (val): 0.776758\n",
      "Epoch: 7/10, Batch: 20, Loss: 2.958930, Acc (train): 1.000000, Acc (val): 0.792049\n",
      "Epoch: 8/10, Batch: 10, Loss: 2.946329, Acc (train): 1.000000, Acc (val): 0.792049\n",
      "Epoch: 8/10, Batch: 20, Loss: 2.935116, Acc (train): 1.000000, Acc (val): 0.788991\n",
      "Epoch: 9/10, Batch: 10, Loss: 2.921424, Acc (train): 1.000000, Acc (val): 0.792049\n",
      "Epoch: 9/10, Batch: 20, Loss: 2.912398, Acc (train): 1.000000, Acc (val): 0.779817\n",
      "Epoch: 10/10, Batch: 10, Loss: 2.897306, Acc (train): 1.000000, Acc (val): 0.779817\n",
      "Epoch: 10/10, Batch: 20, Loss: 2.885971, Acc (train): 1.000000, Acc (val): 0.792049\n"
     ]
    }
   ],
   "source": [
    "acc_training_set = []\n",
    "acc_val_set = []\n",
    "\n",
    "for fold in range(k_folds):\n",
    "    print(\"Training model for Fold: \", fold+1)\n",
    "    dataset = FeatureDataset(f\"data/real_and_fake_mobilenet_data_augmentation_ft/train_{fold}/\")\n",
    "\n",
    "    train_size = int(0.8 * len(dataset))\n",
    "    val_size = len(dataset) - train_size\n",
    "    train_dataset, val_dataset = random_split(dataset, [train_size, val_size])\n",
    "\n",
    "    train_loader = DataLoader(dataset=train_dataset, batch_size=64, shuffle=True)\n",
    "    val_loader = DataLoader(dataset=val_dataset, batch_size=120, shuffle=True)\n",
    "\n",
    "    train_model(acc_training_set, acc_val_set, l1_factor, train_loader, val_loader)"
   ]
  },
  {
   "cell_type": "markdown",
   "metadata": {},
   "source": [
    "Si comprobamos el accuracy del modelo para los datos de entrenamiendo SIN transformaciones:"
   ]
  },
  {
   "cell_type": "code",
   "execution_count": 13,
   "metadata": {},
   "outputs": [
    {
     "name": "stdout",
     "output_type": "stream",
     "text": [
      "Accuracy (test) for Fold 1: 0.8215158924205379\n",
      "Accuracy (test) for Fold 2: 0.8092909535452323\n",
      "Accuracy (test) for Fold 3: 0.8117359413202934\n",
      "Accuracy (test) for Fold 4: 0.80440097799511\n",
      "Accuracy (test) for Fold 5: 0.8117359413202934\n"
     ]
    }
   ],
   "source": [
    "for i in range(k_folds):\n",
    "    test_dataset = FeatureDataset(f\"data/real_and_fake_mobilenet_data_augmentation_ft/test_{i}/\")\n",
    "    test_loader = DataLoader(dataset=test_dataset, batch_size=64, shuffle=True)\n",
    "\n",
    "    print(f\"Accuracy (test) for Fold {i+1}:\", accuracy(test_loader))"
   ]
  },
  {
   "cell_type": "markdown",
   "metadata": {},
   "source": [
    "# Aumento Masivo de datos"
   ]
  },
  {
   "cell_type": "code",
   "execution_count": 28,
   "metadata": {},
   "outputs": [
    {
     "name": "stderr",
     "output_type": "stream",
     "text": [
      "Using cache found in C:\\Users\\carde/.cache\\torch\\hub\\pytorch_vision_v0.6.0\n"
     ]
    }
   ],
   "source": [
    "model = torch.hub.load('pytorch/vision:v0.6.0', 'mobilenet_v2', pretrained=True)"
   ]
  },
  {
   "cell_type": "code",
   "execution_count": 29,
   "metadata": {},
   "outputs": [],
   "source": [
    "classifier = nn.Sequential(\n",
    "    nn.Linear(1280, 512),\n",
    "    nn.ReLU(),\n",
    "    nn.Dropout(0.2),\n",
    "    nn.Linear(512, 256),\n",
    "    nn.ReLU(),\n",
    "    nn.Dropout(0.2),\n",
    "    nn.Linear(256, 2)\n",
    ")"
   ]
  },
  {
   "cell_type": "code",
   "execution_count": 30,
   "metadata": {},
   "outputs": [],
   "source": [
    "model = nn.Sequential(\n",
    "    model.features[16:],\n",
    "    nn.AdaptiveAvgPool2d(1),\n",
    "    nn.Flatten(),\n",
    "    classifier\n",
    ")"
   ]
  },
  {
   "cell_type": "code",
   "execution_count": 31,
   "metadata": {},
   "outputs": [],
   "source": [
    "num_epochs = 10\n",
    "l1_factor = 0.0001\n",
    "\n",
    "k_folds = 5"
   ]
  },
  {
   "cell_type": "code",
   "execution_count": 32,
   "metadata": {},
   "outputs": [],
   "source": [
    "criterion = nn.CrossEntropyLoss()\n",
    "optimizer = optim.Adam(model.parameters(), lr=0.0001)\n",
    "\n",
    "num_epochs = 10"
   ]
  },
  {
   "cell_type": "code",
   "execution_count": 12,
   "metadata": {},
   "outputs": [],
   "source": [
    "def accuracy(model, data_loader):\n",
    "    acc = 0\n",
    "    for i, (image, label) in enumerate(data_loader, 1):\n",
    "        image = image.to(device)\n",
    "        label = label.to(device)\n",
    "\n",
    "        image = image.reshape(-1, 160, 7, 7)\n",
    "\n",
    "        output = model(image).reshape(-1, 2)\n",
    "        acc += (torch.argmax(output, dim=1) == label).sum().item()\n",
    "\n",
    "    return acc / len(data_loader.dataset)"
   ]
  },
  {
   "cell_type": "code",
   "execution_count": 37,
   "metadata": {},
   "outputs": [],
   "source": [
    "device = torch.device('cuda:0' if torch.cuda.is_available() else 'cpu')"
   ]
  },
  {
   "cell_type": "code",
   "execution_count": null,
   "metadata": {},
   "outputs": [
    {
     "name": "stdout",
     "output_type": "stream",
     "text": [
      "Training model for Fold:  1\n",
      "Epoch: 1/10, Batch: 10, Loss: 6.031771, Acc (train): 0.605548, Acc (val): 0.618622\n",
      "Epoch: 2/10, Batch: 10, Loss: 5.817175, Acc (train): 0.629145, Acc (val): 0.623724\n",
      "Epoch: 3/10, Batch: 10, Loss: 5.588640, Acc (train): 0.722577, Acc (val): 0.660714\n",
      "Epoch: 4/10, Batch: 10, Loss: 5.364243, Acc (train): 0.786990, Acc (val): 0.683673\n",
      "Epoch: 5/10, Batch: 10, Loss: 5.127033, Acc (train): 0.852360, Acc (val): 0.692602\n",
      "Epoch: 6/10, Batch: 10, Loss: 4.884398, Acc (train): 0.912628, Acc (val): 0.716837\n",
      "Epoch: 7/10, Batch: 10, Loss: 4.696449, Acc (train): 0.961097, Acc (val): 0.727041\n",
      "Epoch: 8/10, Batch: 10, Loss: 4.553024, Acc (train): 0.985013, Acc (val): 0.742347\n",
      "Epoch: 9/10, Batch: 10, Loss: 4.404867, Acc (train): 0.996811, Acc (val): 0.752551\n",
      "Epoch: 10/10, Batch: 10, Loss: 4.304027, Acc (train): 0.999043, Acc (val): 0.743622\n",
      "Training model for Fold:  2\n",
      "Epoch: 1/10, Batch: 10, Loss: 4.646618, Acc (train): 0.880421, Acc (val): 0.846939\n",
      "Epoch: 2/10, Batch: 10, Loss: 4.420707, Acc (train): 0.931122, Acc (val): 0.858418\n",
      "Epoch: 3/10, Batch: 10, Loss: 4.204532, Acc (train): 0.970663, Acc (val): 0.866071\n",
      "Epoch: 4/10, Batch: 10, Loss: 4.097095, Acc (train): 0.987245, Acc (val): 0.858418\n",
      "Epoch: 5/10, Batch: 10, Loss: 3.998241, Acc (train): 0.997130, Acc (val): 0.872449\n",
      "Epoch: 6/10, Batch: 10, Loss: 3.897895, Acc (train): 0.999681, Acc (val): 0.868622\n",
      "Epoch: 7/10, Batch: 10, Loss: 3.831633, Acc (train): 1.000000, Acc (val): 0.867347\n",
      "Epoch: 8/10, Batch: 10, Loss: 3.772002, Acc (train): 1.000000, Acc (val): 0.872449\n",
      "Epoch: 9/10, Batch: 10, Loss: 3.712685, Acc (train): 1.000000, Acc (val): 0.867347\n",
      "Epoch: 10/10, Batch: 10, Loss: 3.655775, Acc (train): 1.000000, Acc (val): 0.869898\n",
      "Training model for Fold:  3\n",
      "Epoch: 1/10, Batch: 10, Loss: 3.982735, Acc (train): 0.921237, Acc (val): 0.887755\n",
      "Epoch: 2/10, Batch: 10, Loss: 3.712124, Acc (train): 0.962372, Acc (val): 0.889031\n",
      "Epoch: 3/10, Batch: 10, Loss: 3.584055, Acc (train): 0.990434, Acc (val): 0.894133\n",
      "Epoch: 4/10, Batch: 10, Loss: 3.495132, Acc (train): 0.996173, Acc (val): 0.889031\n",
      "Epoch: 5/10, Batch: 10, Loss: 3.443926, Acc (train): 0.999362, Acc (val): 0.903061\n",
      "Epoch: 6/10, Batch: 10, Loss: 3.399645, Acc (train): 1.000000, Acc (val): 0.899235\n",
      "Epoch: 7/10, Batch: 10, Loss: 3.358785, Acc (train): 1.000000, Acc (val): 0.904337\n",
      "Epoch: 8/10, Batch: 10, Loss: 3.316831, Acc (train): 1.000000, Acc (val): 0.897959\n",
      "Epoch: 9/10, Batch: 10, Loss: 3.274402, Acc (train): 1.000000, Acc (val): 0.909439\n",
      "Epoch: 10/10, Batch: 10, Loss: 3.237143, Acc (train): 1.000000, Acc (val): 0.904337\n",
      "Training model for Fold:  4\n",
      "Epoch: 1/10, Batch: 10, Loss: 3.506680, Acc (train): 0.944515, Acc (val): 0.931122\n",
      "Epoch: 2/10, Batch: 10, Loss: 3.260726, Acc (train): 0.983737, Acc (val): 0.929847\n",
      "Epoch: 3/10, Batch: 10, Loss: 3.175504, Acc (train): 0.996811, Acc (val): 0.931122\n",
      "Epoch: 4/10, Batch: 10, Loss: 3.115245, Acc (train): 0.999362, Acc (val): 0.933673\n",
      "Epoch: 5/10, Batch: 10, Loss: 3.077616, Acc (train): 1.000000, Acc (val): 0.932398\n",
      "Epoch: 6/10, Batch: 10, Loss: 3.042781, Acc (train): 1.000000, Acc (val): 0.932398\n",
      "Epoch: 7/10, Batch: 10, Loss: 3.010617, Acc (train): 1.000000, Acc (val): 0.933673\n",
      "Epoch: 8/10, Batch: 10, Loss: 2.979498, Acc (train): 1.000000, Acc (val): 0.934949\n",
      "Epoch: 9/10, Batch: 10, Loss: 2.948851, Acc (train): 1.000000, Acc (val): 0.932398\n",
      "Epoch: 10/10, Batch: 10, Loss: 2.918841, Acc (train): 1.000000, Acc (val): 0.937500\n",
      "Training model for Fold:  5\n",
      "Epoch: 1/10, Batch: 10, Loss: 3.053226, Acc (train): 0.962372, Acc (val): 0.946429\n",
      "Epoch: 2/10, Batch: 10, Loss: 2.961165, Acc (train): 0.987883, Acc (val): 0.947704\n",
      "Epoch: 3/10, Batch: 10, Loss: 2.888316, Acc (train): 0.998087, Acc (val): 0.943878\n",
      "Epoch: 4/10, Batch: 10, Loss: 2.828586, Acc (train): 0.999681, Acc (val): 0.947704\n",
      "Epoch: 5/10, Batch: 10, Loss: 2.794008, Acc (train): 0.999681, Acc (val): 0.945153\n",
      "Epoch: 6/10, Batch: 10, Loss: 2.767700, Acc (train): 1.000000, Acc (val): 0.947704\n",
      "Epoch: 7/10, Batch: 10, Loss: 2.740554, Acc (train): 1.000000, Acc (val): 0.941327\n",
      "Epoch: 8/10, Batch: 10, Loss: 2.715770, Acc (train): 1.000000, Acc (val): 0.942602\n",
      "Epoch: 9/10, Batch: 10, Loss: 2.691015, Acc (train): 1.000000, Acc (val): 0.947704\n",
      "Epoch: 10/10, Batch: 10, Loss: 2.667478, Acc (train): 1.000000, Acc (val): 0.946429\n"
     ]
    }
   ],
   "source": [
    "acc_training_set = []\n",
    "acc_val_set = []\n",
    "\n",
    "for fold in range(k_folds):\n",
    "    print(\"Training model for Fold: \", fold+1)\n",
    "    dataset = FeatureDataset(f\"data/splitted/train_mobilenet_massive_data_augmentation_ft/train_{fold}/\")\n",
    "\n",
    "    train_size = int(0.8 * len(dataset))\n",
    "    val_size = len(dataset) - train_size\n",
    "    train_dataset, val_dataset = random_split(dataset, [train_size, val_size])\n",
    "\n",
    "    train_loader = DataLoader(dataset=train_dataset, batch_size=3*64, shuffle=True)\n",
    "    val_loader = DataLoader(dataset=val_dataset, batch_size=3*120, shuffle=True)\n",
    "\n",
    "    train_model(model, criterion, optimizer, acc_training_set, acc_val_set, l1_factor, train_loader, val_loader)"
   ]
  },
  {
   "cell_type": "markdown",
   "metadata": {},
   "source": [
    "Este modelo tomó 27 minutos en ejecutarse en CPU (sin GPU). Si visualizamos los resultados obtenidos:"
   ]
  },
  {
   "cell_type": "markdown",
   "metadata": {},
   "source": [
    "![img](images/mobile_net_folds.png)"
   ]
  },
  {
   "cell_type": "markdown",
   "metadata": {},
   "source": [
    "No obstante, hemos cometido el error de posibilitar la filtración de datos, pues al realizar el aumento de datos masivo, es posible que imágenes de validación hayan sido previamente utilizadas para entrenar. Es por lo que, al testear el modelo con el dataset de prueba, obtenemos el siguiente resultado"
   ]
  },
  {
   "cell_type": "code",
   "execution_count": 39,
   "metadata": {},
   "outputs": [
    {
     "name": "stdout",
     "output_type": "stream",
     "text": [
      "Accuracy (test): 0.6234718826405868\n"
     ]
    }
   ],
   "source": [
    "test_dataset = FeatureDataset(f\"data/splitted/test_mobilenet_massive_ft/test\")\n",
    "test_loader = DataLoader(dataset=test_dataset, batch_size=64, shuffle=True)\n",
    "\n",
    "print(f\"Accuracy (test):\", accuracy(test_loader))"
   ]
  },
  {
   "cell_type": "markdown",
   "metadata": {},
   "source": [
    "Procedemos así a corregir este error, y simplemente entrenaremos el modelo para el dataset de características aumentado, sin realizar validación cruzada. Únicamente validaremos con los datos de prueba, para decidir cuando parar el entrenamiento y evitar el sobreajuste. Así, volveremos a definir el modelo"
   ]
  },
  {
   "cell_type": "code",
   "execution_count": 29,
   "metadata": {},
   "outputs": [
    {
     "name": "stderr",
     "output_type": "stream",
     "text": [
      "Using cache found in C:\\Users\\carde/.cache\\torch\\hub\\pytorch_vision_v0.6.0\n"
     ]
    }
   ],
   "source": [
    "model = torch.hub.load('pytorch/vision:v0.6.0', 'mobilenet_v2', weights='MobileNet_V2_Weights.IMAGENET1K_V1')\n",
    "\n",
    "classifier = nn.Sequential(\n",
    "    nn.Linear(1280, 512),\n",
    "    nn.ReLU(),\n",
    "    nn.Dropout(0.2),\n",
    "    nn.Linear(512, 256),\n",
    "    nn.ReLU(),\n",
    "    nn.Dropout(0.2),\n",
    "    nn.Linear(256, 2)\n",
    ")\n",
    "\n",
    "model = nn.Sequential(\n",
    "    model.features[16:],\n",
    "    nn.AdaptiveAvgPool2d(1),\n",
    "    nn.Flatten(),\n",
    "    classifier\n",
    ")"
   ]
  },
  {
   "cell_type": "markdown",
   "metadata": {},
   "source": [
    "Y escogeremos el mismo optimizador y función de error que para el modelo al que se le aplicó cross validation."
   ]
  },
  {
   "cell_type": "code",
   "execution_count": 30,
   "metadata": {},
   "outputs": [],
   "source": [
    "criterion = nn.CrossEntropyLoss()\n",
    "optimizer = optim.Adam(model.parameters(), lr=0.0001)"
   ]
  },
  {
   "cell_type": "code",
   "execution_count": 31,
   "metadata": {},
   "outputs": [],
   "source": [
    "num_epochs = 20\n",
    "l1_factor = 0.0001"
   ]
  },
  {
   "cell_type": "markdown",
   "metadata": {},
   "source": [
    "Y procedemos a entrenar el modelo"
   ]
  },
  {
   "cell_type": "code",
   "execution_count": 32,
   "metadata": {},
   "outputs": [
    {
     "name": "stdout",
     "output_type": "stream",
     "text": [
      "Epoch: 1/20, Batch: 10, Loss: 6.045247, Acc (train): 0.608163, Acc (val): 0.530562\n",
      "Epoch: 1/20, Batch: 20, Loss: 5.950596, Acc (train): 0.608163, Acc (val): 0.530562\n",
      "Epoch: 2/20, Batch: 10, Loss: 5.761797, Acc (train): 0.633163, Acc (val): 0.567237\n",
      "Epoch: 2/20, Batch: 20, Loss: 5.658105, Acc (train): 0.706888, Acc (val): 0.625917\n",
      "Epoch: 3/20, Batch: 10, Loss: 5.529825, Acc (train): 0.728827, Acc (val): 0.638142\n",
      "Epoch: 3/20, Batch: 20, Loss: 5.389197, Acc (train): 0.756378, Acc (val): 0.655257\n",
      "Epoch: 4/20, Batch: 10, Loss: 5.214550, Acc (train): 0.792857, Acc (val): 0.660147\n",
      "Epoch: 4/20, Batch: 20, Loss: 5.201595, Acc (train): 0.808929, Acc (val): 0.623472\n",
      "Epoch: 5/20, Batch: 10, Loss: 4.957716, Acc (train): 0.872194, Acc (val): 0.672372\n",
      "Epoch: 5/20, Batch: 20, Loss: 4.856603, Acc (train): 0.907653, Acc (val): 0.645477\n",
      "Epoch: 6/20, Batch: 10, Loss: 4.701108, Acc (train): 0.938520, Acc (val): 0.645477\n",
      "Epoch: 6/20, Batch: 20, Loss: 4.638561, Acc (train): 0.964031, Acc (val): 0.652812\n",
      "Epoch: 7/20, Batch: 10, Loss: 4.472182, Acc (train): 0.971684, Acc (val): 0.628362\n",
      "Epoch: 7/20, Batch: 20, Loss: 4.415514, Acc (train): 0.987500, Acc (val): 0.630807\n",
      "Epoch: 8/20, Batch: 10, Loss: 4.328453, Acc (train): 0.994643, Acc (val): 0.645477\n",
      "Epoch: 8/20, Batch: 20, Loss: 4.260084, Acc (train): 0.999235, Acc (val): 0.652812\n",
      "Epoch: 9/20, Batch: 10, Loss: 4.191578, Acc (train): 0.998980, Acc (val): 0.623472\n",
      "Epoch: 9/20, Batch: 20, Loss: 4.146516, Acc (train): 0.999745, Acc (val): 0.660147\n",
      "Epoch: 10/20, Batch: 10, Loss: 4.084776, Acc (train): 1.000000, Acc (val): 0.635697\n",
      "Epoch: 10/20, Batch: 20, Loss: 4.033318, Acc (train): 1.000000, Acc (val): 0.655257\n",
      "Epoch: 11/20, Batch: 10, Loss: 3.981199, Acc (train): 1.000000, Acc (val): 0.630807\n",
      "Epoch: 11/20, Batch: 20, Loss: 3.931429, Acc (train): 1.000000, Acc (val): 0.640587\n",
      "Epoch: 12/20, Batch: 10, Loss: 3.878366, Acc (train): 1.000000, Acc (val): 0.633252\n",
      "Epoch: 12/20, Batch: 20, Loss: 3.831433, Acc (train): 1.000000, Acc (val): 0.635697\n",
      "Epoch: 13/20, Batch: 10, Loss: 3.780542, Acc (train): 1.000000, Acc (val): 0.640587\n",
      "Epoch: 13/20, Batch: 20, Loss: 3.735753, Acc (train): 1.000000, Acc (val): 0.633252\n",
      "Epoch: 14/20, Batch: 10, Loss: 3.687882, Acc (train): 1.000000, Acc (val): 0.630807\n",
      "Epoch: 14/20, Batch: 20, Loss: 3.642190, Acc (train): 1.000000, Acc (val): 0.652812\n"
     ]
    }
   ],
   "source": [
    "acc_training_set = []\n",
    "acc_val_set = []\n",
    "\n",
    "dataset = FeatureDataset(f\"data/splitted/train_mobilenet_massive_data_augmentation_ft/train_{0}/\")\n",
    "train_loader = DataLoader(dataset=dataset, batch_size=3*64, shuffle=True)\n",
    "\n",
    "test_dataset = FeatureDataset(f\"data/splitted/test_mobilenet_massive_ft/test\")\n",
    "test_loader = DataLoader(dataset=test_dataset, batch_size=64, shuffle=True)\n",
    "\n",
    "train_model(model, criterion, optimizer, acc_training_set, acc_val_set, l1_factor, train_loader, test_loader)"
   ]
  },
  {
   "cell_type": "markdown",
   "metadata": {},
   "source": [
    "Al visualizar los resultados, nos percatamos de que el modelo no es capaz de ajustarse a los datos sin sobreajuste"
   ]
  },
  {
   "attachments": {
    "mobilenet_no_cv.png": {
     "image/png": "[encoded data removed]"
    }
   },
   "cell_type": "markdown",
   "metadata": {},
   "source": [
    "![mobilenet_no_cv.png](attachment:mobilenet_no_cv.png)"
   ]
  }
 ],
 "metadata": {
  "kernelspec": {
   "display_name": "aa1",
   "language": "python",
   "name": "python3"
  },
  "language_info": {
   "codemirror_mode": {
    "name": "ipython",
    "version": 3
   },
   "file_extension": ".py",
   "mimetype": "text/x-python",
   "name": "python",
   "nbconvert_exporter": "python",
   "pygments_lexer": "ipython3",
   "version": "3.9.16"
  }
 },
 "nbformat": 4,
 "nbformat_minor": 2
}
