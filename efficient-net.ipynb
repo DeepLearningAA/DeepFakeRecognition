{
 "cells": [
  {
   "cell_type": "markdown",
   "metadata": {},
   "source": [
    "# Deep Fake Detection. EfficientNet"
   ]
  },
  {
   "cell_type": "code",
   "execution_count": 1,
   "metadata": {},
   "outputs": [],
   "source": [
    "import torch\n",
    "import torch.nn as nn\n",
    "import torch.nn.functional as F\n",
    "import torch.optim as optim\n",
    "import torchvision\n",
    "from torchvision import models\n",
    "import torchvision.transforms as transforms\n",
    "\n",
    "from torch.optim import lr_scheduler\n",
    "\n",
    "from torch.utils.data import random_split, DataLoader\n",
    "from dataset_handlers.feature_dataset import FeatureDataset\n",
    "\n",
    "import os\n",
    "from PIL import Image\n",
    "from matplotlib import pyplot as plt"
   ]
  },
  {
   "cell_type": "markdown",
   "metadata": {},
   "source": [
    "El modelo EfficientNetB0 es un modelo de clasificación de imágenes pre-entrenado que se puede utilizar para clasificar imágenes en 1000 clases diferentes. El modelo EfficientNetB0 tiene aproximadamente 5,3 millones de parámetros y requiere 0,4 GB de memoria. Para una descripción mas detallada del modelo, ver el paper original [aquí](https://arxiv.org/abs/1905.11946)."
   ]
  },
  {
   "cell_type": "markdown",
   "metadata": {},
   "source": [
    "# Fine Tuning"
   ]
  },
  {
   "cell_type": "markdown",
   "metadata": {},
   "source": [
    "Lo primero será cargar el modelo"
   ]
  },
  {
   "cell_type": "code",
   "execution_count": 3,
   "metadata": {},
   "outputs": [
    {
     "name": "stderr",
     "output_type": "stream",
     "text": [
      "Using cache found in C:\\Users\\carde/.cache\\torch\\hub\\NVIDIA_DeepLearningExamples_torchhub\n"
     ]
    }
   ],
   "source": [
    "efficientnet = torch.hub.load('NVIDIA/DeepLearningExamples:torchhub', 'nvidia_efficientnet_b0', pretrained=True)"
   ]
  },
  {
   "cell_type": "markdown",
   "metadata": {},
   "source": [
    "Tan solo entrenaremos de la capa 6 del modelo en adelante, ya que las primeras capas son las que detectan las formas básicas y las últimas las que detectan los patrones más abstractos. Definimos así el modelo a entrenar, modificando la capa fully connected del modelo para que éste pueda ajustarse mejor a los datos."
   ]
  },
  {
   "cell_type": "code",
   "execution_count": 9,
   "metadata": {},
   "outputs": [],
   "source": [
    "classifier = nn.Sequential(\n",
    "    nn.AdaptiveAvgPool2d(1),\n",
    "    nn.Flatten(),\n",
    "    nn.Linear(1280, 512),\n",
    "    nn.ReLU(),\n",
    "    nn.Dropout(0.2),\n",
    "    nn.Linear(512, 256),\n",
    "    nn.ReLU(),\n",
    "    nn.Dropout(0.2),\n",
    "    nn.Linear(256, 2)\n",
    ")"
   ]
  },
  {
   "cell_type": "code",
   "execution_count": 10,
   "metadata": {},
   "outputs": [],
   "source": [
    "model = nn.Sequential(\n",
    "    efficientnet.layers[6:],\n",
    "    efficientnet.features,\n",
    "    classifier\n",
    ")"
   ]
  },
  {
   "cell_type": "markdown",
   "metadata": {},
   "source": [
    "Para el entrenamiento, definimos un número de épocas, un factor de regualrización para L1 tanto para L2 y el número de folds en que dividiremos nuestro conjunto de entrenamiento para realizar validación cruzada. Utilizaremos la función de pérdida entropía cruzada y el optimizador Adam con una tasa de aprendizaje de 0.001. Para la validación, utilizaremos la métrica accuracy."
   ]
  },
  {
   "cell_type": "code",
   "execution_count": 11,
   "metadata": {},
   "outputs": [],
   "source": [
    "num_epochs = 10\n",
    "l1_factor = 0.0001\n",
    "l2_factor = 0.001\n",
    "\n",
    "k_folds = 5"
   ]
  },
  {
   "cell_type": "code",
   "execution_count": 12,
   "metadata": {},
   "outputs": [],
   "source": [
    "criterion = nn.CrossEntropyLoss()\n",
    "optimizer = optim.Adam(model.parameters(), lr=0.0001, weight_decay=l2_factor)\n",
    "\n",
    "num_epochs = 10"
   ]
  },
  {
   "cell_type": "markdown",
   "metadata": {},
   "source": [
    "Y ya por último, entrenamos el modelo:"
   ]
  },
  {
   "cell_type": "code",
   "execution_count": 13,
   "metadata": {},
   "outputs": [],
   "source": [
    "device = torch.device(\"cuda:0\" if torch.cuda.is_available() else \"cpu\")"
   ]
  },
  {
   "cell_type": "code",
   "execution_count": 14,
   "metadata": {},
   "outputs": [],
   "source": [
    "def accuracy(data_loader, model, transform):\n",
    "    acc = 0\n",
    "    for i, (image, label) in enumerate(data_loader, 1):\n",
    "        image = image.to(device)\n",
    "        label = label.to(device)\n",
    "\n",
    "        image = transform(image)\n",
    "\n",
    "        output = model(image).reshape(-1, 2)\n",
    "        acc += (torch.argmax(output, dim=1) == label).sum().item()\n",
    "\n",
    "    return acc / len(data_loader.dataset)"
   ]
  },
  {
   "cell_type": "code",
   "execution_count": 15,
   "metadata": {},
   "outputs": [],
   "source": [
    "def train_model(model, transform, criterion, optimizer, acc_training_set, acc_val_set, l1_factor, train_loader, val_loader):\n",
    "    for epoch in range(num_epochs):\n",
    "        for i, (image, label) in enumerate(train_loader, 1):\n",
    "            image = image.to(device)\n",
    "            label = label.to(device)\n",
    "\n",
    "            image = transform(image)\n",
    "            output = model(image)\n",
    "\n",
    "            loss = criterion(output, label)\n",
    "\n",
    "            l1_regularization = torch.tensor(0., requires_grad=False)\n",
    "            for param in model.parameters():\n",
    "                l1_regularization += torch.norm(param, 1)\n",
    "\n",
    "            l1_regularization.requires_grad_(True)\n",
    "            loss += l1_factor * l1_regularization\n",
    "\n",
    "            optimizer.zero_grad()\n",
    "            loss.backward()\n",
    "            optimizer.step()\n",
    "\n",
    "            if i % 10 == 0:\n",
    "                acc_training_set.append(accuracy(train_loader, model, transform))\n",
    "                acc_val_set.append(accuracy(val_loader, model, transform))\n",
    "\n",
    "                print('Epoch: {:2.0f}/{}, Batch: {:2.0f}, Loss: {:.6f}, Acc (train): {:.6f}, Acc (val): {:.6f}'\n",
    "                      .format(epoch+1, num_epochs, i, loss.item(), acc_training_set[-1], acc_val_set[-1]))"
   ]
  },
  {
   "cell_type": "code",
   "execution_count": 16,
   "metadata": {},
   "outputs": [],
   "source": [
    "def transform_image(image):\n",
    "    return image.reshape(-1, 192, 7, 7)"
   ]
  },
  {
   "cell_type": "markdown",
   "metadata": {},
   "source": [
    "Para entrenar este modelo, usaremos una mezcla entre aumento de datos y cross-validation. Para ello, se dividió el conjunto de datos original en train y test. Una vez hecho eso, se generó para los datos del conjunto de train un nuevo dataset de características (ver script ```features_dataset_creator```) por cada fold. Además, a los datos de entrenamiento se les aplicó una serie de transformaciones aleatorias para conseguir así un aumento de datos, además de reducir el overfitting mediante la validación cruzada. Entrenaremos primero para tan solo **un fold**."
   ]
  },
  {
   "cell_type": "code",
   "execution_count": 48,
   "metadata": {},
   "outputs": [
    {
     "name": "stdout",
     "output_type": "stream",
     "text": [
      "Training model for Fold:  1\n",
      "Epoch:  1/10, Batch: 10, Loss: 5.379045, Acc (train): 0.713410, Acc (val): 0.727829\n",
      "Epoch:  1/10, Batch: 20, Loss: 5.253000, Acc (train): 0.721839, Acc (val): 0.724771\n",
      "Epoch:  1/10, Batch: 30, Loss: 5.153671, Acc (train): 0.762452, Acc (val): 0.727829\n",
      "Epoch:  1/10, Batch: 40, Loss: 5.071295, Acc (train): 0.783142, Acc (val): 0.733945\n",
      "Epoch:  2/10, Batch: 10, Loss: 4.884199, Acc (train): 0.763218, Acc (val): 0.700306\n",
      "Epoch:  2/10, Batch: 20, Loss: 4.736815, Acc (train): 0.808429, Acc (val): 0.737003\n",
      "Epoch:  2/10, Batch: 30, Loss: 4.814573, Acc (train): 0.828352, Acc (val): 0.733945\n",
      "Epoch:  2/10, Batch: 40, Loss: 4.698333, Acc (train): 0.846743, Acc (val): 0.727829\n",
      "Epoch:  3/10, Batch: 10, Loss: 4.488282, Acc (train): 0.872797, Acc (val): 0.709480\n",
      "Epoch:  3/10, Batch: 20, Loss: 4.391846, Acc (train): 0.857471, Acc (val): 0.770642\n",
      "Epoch:  3/10, Batch: 30, Loss: 4.478344, Acc (train): 0.901149, Acc (val): 0.709480\n",
      "Epoch:  3/10, Batch: 40, Loss: 4.384648, Acc (train): 0.925670, Acc (val): 0.727829\n",
      "Epoch:  4/10, Batch: 10, Loss: 4.242316, Acc (train): 0.934866, Acc (val): 0.715596\n",
      "Epoch:  4/10, Batch: 20, Loss: 4.170855, Acc (train): 0.953257, Acc (val): 0.724771\n",
      "Epoch:  4/10, Batch: 30, Loss: 4.083839, Acc (train): 0.964751, Acc (val): 0.721713\n",
      "Epoch:  4/10, Batch: 40, Loss: 4.104335, Acc (train): 0.967050, Acc (val): 0.730887\n",
      "Epoch:  5/10, Batch: 10, Loss: 4.211200, Acc (train): 0.973180, Acc (val): 0.727829\n",
      "Epoch:  5/10, Batch: 20, Loss: 3.954012, Acc (train): 0.976245, Acc (val): 0.737003\n",
      "Epoch:  5/10, Batch: 30, Loss: 3.895999, Acc (train): 0.977011, Acc (val): 0.718654\n",
      "Epoch:  5/10, Batch: 40, Loss: 3.918880, Acc (train): 0.985441, Acc (val): 0.694190\n",
      "Epoch:  6/10, Batch: 10, Loss: 3.842339, Acc (train): 0.990038, Acc (val): 0.706422\n",
      "Epoch:  6/10, Batch: 20, Loss: 3.819791, Acc (train): 0.990038, Acc (val): 0.712538\n",
      "Epoch:  6/10, Batch: 30, Loss: 3.753491, Acc (train): 0.991571, Acc (val): 0.724771\n",
      "Epoch:  6/10, Batch: 40, Loss: 3.750944, Acc (train): 0.993103, Acc (val): 0.712538\n",
      "Epoch:  7/10, Batch: 10, Loss: 3.703617, Acc (train): 0.993103, Acc (val): 0.691131\n",
      "Epoch:  7/10, Batch: 20, Loss: 3.665234, Acc (train): 0.996935, Acc (val): 0.724771\n",
      "Epoch:  7/10, Batch: 30, Loss: 3.641201, Acc (train): 0.996169, Acc (val): 0.737003\n",
      "Epoch:  7/10, Batch: 40, Loss: 3.622950, Acc (train): 0.995402, Acc (val): 0.727829\n",
      "Epoch:  8/10, Batch: 10, Loss: 3.596106, Acc (train): 0.998467, Acc (val): 0.727829\n",
      "Epoch:  8/10, Batch: 20, Loss: 3.575593, Acc (train): 0.998467, Acc (val): 0.715596\n",
      "Epoch:  8/10, Batch: 30, Loss: 3.549179, Acc (train): 0.998467, Acc (val): 0.730887\n",
      "Epoch:  8/10, Batch: 40, Loss: 3.518901, Acc (train): 0.999234, Acc (val): 0.703364\n",
      "Epoch:  9/10, Batch: 10, Loss: 3.485665, Acc (train): 1.000000, Acc (val): 0.730887\n",
      "Epoch:  9/10, Batch: 20, Loss: 3.465976, Acc (train): 0.997701, Acc (val): 0.706422\n",
      "Epoch:  9/10, Batch: 30, Loss: 3.435219, Acc (train): 1.000000, Acc (val): 0.737003\n",
      "Epoch:  9/10, Batch: 40, Loss: 3.426203, Acc (train): 0.999234, Acc (val): 0.721713\n",
      "Epoch: 10/10, Batch: 10, Loss: 3.389365, Acc (train): 1.000000, Acc (val): 0.706422\n",
      "Epoch: 10/10, Batch: 20, Loss: 3.378188, Acc (train): 1.000000, Acc (val): 0.715596\n",
      "Epoch: 10/10, Batch: 30, Loss: 3.346997, Acc (train): 1.000000, Acc (val): 0.718654\n",
      "Epoch: 10/10, Batch: 40, Loss: 3.338692, Acc (train): 1.000000, Acc (val): 0.700306\n"
     ]
    }
   ],
   "source": [
    "acc_training_set = []\n",
    "acc_val_set = []\n",
    "\n",
    "for fold in range(1):\n",
    "    print(\"Training model for Fold: \", fold+1)\n",
    "    dataset = FeatureDataset(f\"data/splitted/train_efficientnet_data_augmentation_ft/train_{fold}/\")\n",
    "\n",
    "    train_size = int(0.8 * len(dataset))\n",
    "    val_size = len(dataset) - train_size\n",
    "    train_dataset, val_dataset = random_split(dataset, [train_size, val_size])\n",
    "\n",
    "    train_loader = DataLoader(dataset=train_dataset, batch_size=32, shuffle=True)\n",
    "    val_loader = DataLoader(dataset=val_dataset, batch_size=32, shuffle=True)\n",
    "\n",
    "    train_model(model, transform_image, criterion, optimizer, acc_training_set, acc_val_set, l1_factor, train_loader, val_loader)"
   ]
  },
  {
   "cell_type": "code",
   "execution_count": 59,
   "metadata": {},
   "outputs": [
    {
     "name": "stdout",
     "output_type": "stream",
     "text": [
      "Accuracy (test): 0.7481662591687042\n"
     ]
    }
   ],
   "source": [
    "test_dataset = FeatureDataset(f\"data/splitted/test_efficientnet_ft/test\")\n",
    "test_loader = DataLoader(dataset=test_dataset, batch_size=64, shuffle=True)\n",
    "\n",
    "print(f\"Accuracy (test):\", accuracy(test_loader, model, transform_image))"
   ]
  },
  {
   "cell_type": "code",
   "execution_count": 60,
   "metadata": {},
   "outputs": [
    {
     "name": "stdout",
     "output_type": "stream",
     "text": [
      "[[134  58]\n",
      " [ 46 171]]\n"
     ]
    }
   ],
   "source": [
    "from sklearn.metrics import confusion_matrix\n",
    "\n",
    "y_true = []\n",
    "y_pred = []\n",
    "\n",
    "for i, (image, label) in enumerate(test_loader, 1):\n",
    "    image = image.to(device)\n",
    "    label = label.to(device)\n",
    "\n",
    "    image = transform_image(image)\n",
    "\n",
    "    output = model(image).reshape(-1, 2)\n",
    "    y_pred.extend(torch.argmax(output, dim=1).tolist())\n",
    "    y_true.extend(label.tolist())\n",
    "\n",
    "cm = confusion_matrix(y_true, y_pred)\n",
    "print(cm)"
   ]
  },
  {
   "cell_type": "markdown",
   "metadata": {},
   "source": [
    "Como podemos observar, el modelo es capaz de ajustarse bastante bien al conjunto de test. Este alcanza un  ```accuracy``` del 70% para el conjunto de validación, y un 74% para el de test. Para el conjunto de test, además, se obtuvo un ```recall``` del 70%, un ```f1 score``` del 72%. "
   ]
  },
  {
   "attachments": {
    "cm_eff_1.png": {
     "image/png": "[encoded data removed]"
    }
   },
   "cell_type": "markdown",
   "metadata": {},
   "source": [
    "![cm_eff_1.png](attachment:cm_eff_1.png)"
   ]
  },
  {
   "cell_type": "markdown",
   "metadata": {},
   "source": [
    "A la vista de los buenos reultados obtenidos, guardamos el modelo para su posterior uso."
   ]
  },
  {
   "cell_type": "code",
   "execution_count": 61,
   "metadata": {},
   "outputs": [],
   "source": [
    "torch.save(model.state_dict(), \"models/efficientnet_ft.pth\")"
   ]
  },
  {
   "cell_type": "markdown",
   "metadata": {},
   "source": [
    "Entrenamos ahora para el siguiente fold:"
   ]
  },
  {
   "cell_type": "code",
   "execution_count": 62,
   "metadata": {},
   "outputs": [
    {
     "name": "stdout",
     "output_type": "stream",
     "text": [
      "Training model for Fold:  2\n",
      "Epoch:  1/10, Batch: 10, Loss: 3.756838, Acc (train): 0.838314, Acc (val): 0.810398\n",
      "Epoch:  1/10, Batch: 20, Loss: 4.175616, Acc (train): 0.847510, Acc (val): 0.773700\n",
      "Epoch:  1/10, Batch: 30, Loss: 4.185228, Acc (train): 0.895019, Acc (val): 0.764526\n",
      "Epoch:  1/10, Batch: 40, Loss: 3.814186, Acc (train): 0.899617, Acc (val): 0.727829\n",
      "Epoch:  2/10, Batch: 10, Loss: 3.497569, Acc (train): 0.922605, Acc (val): 0.804281\n",
      "Epoch:  2/10, Batch: 20, Loss: 3.601507, Acc (train): 0.950958, Acc (val): 0.795107\n",
      "Epoch:  2/10, Batch: 30, Loss: 3.576423, Acc (train): 0.960153, Acc (val): 0.755352\n",
      "Epoch:  2/10, Batch: 40, Loss: 3.374866, Acc (train): 0.970115, Acc (val): 0.804281\n",
      "Epoch:  3/10, Batch: 10, Loss: 3.452285, Acc (train): 0.980843, Acc (val): 0.795107\n",
      "Epoch:  3/10, Batch: 20, Loss: 3.407730, Acc (train): 0.978544, Acc (val): 0.807339\n",
      "Epoch:  3/10, Batch: 30, Loss: 3.300605, Acc (train): 0.977778, Acc (val): 0.816514\n",
      "Epoch:  3/10, Batch: 40, Loss: 3.428959, Acc (train): 0.987739, Acc (val): 0.795107\n",
      "Epoch:  4/10, Batch: 10, Loss: 3.223496, Acc (train): 0.989272, Acc (val): 0.785933\n",
      "Epoch:  4/10, Batch: 20, Loss: 3.235341, Acc (train): 0.993870, Acc (val): 0.807339\n",
      "Epoch:  4/10, Batch: 30, Loss: 3.206143, Acc (train): 0.991571, Acc (val): 0.816514\n",
      "Epoch:  4/10, Batch: 40, Loss: 3.205466, Acc (train): 0.991571, Acc (val): 0.782875\n",
      "Epoch:  5/10, Batch: 10, Loss: 3.151445, Acc (train): 0.994636, Acc (val): 0.788991\n",
      "Epoch:  5/10, Batch: 20, Loss: 3.150351, Acc (train): 0.994636, Acc (val): 0.767584\n",
      "Epoch:  5/10, Batch: 30, Loss: 3.137733, Acc (train): 0.997701, Acc (val): 0.795107\n",
      "Epoch:  5/10, Batch: 40, Loss: 3.182272, Acc (train): 0.998467, Acc (val): 0.795107\n",
      "Epoch:  6/10, Batch: 10, Loss: 3.119526, Acc (train): 1.000000, Acc (val): 0.782875\n",
      "Epoch:  6/10, Batch: 20, Loss: 3.095924, Acc (train): 1.000000, Acc (val): 0.767584\n",
      "Epoch:  6/10, Batch: 30, Loss: 3.080213, Acc (train): 1.000000, Acc (val): 0.792049\n",
      "Epoch:  6/10, Batch: 40, Loss: 3.074855, Acc (train): 1.000000, Acc (val): 0.779817\n",
      "Epoch:  7/10, Batch: 10, Loss: 3.053727, Acc (train): 0.999234, Acc (val): 0.801223\n",
      "Epoch:  7/10, Batch: 20, Loss: 3.056045, Acc (train): 1.000000, Acc (val): 0.798165\n",
      "Epoch:  7/10, Batch: 30, Loss: 3.035916, Acc (train): 1.000000, Acc (val): 0.782875\n",
      "Epoch:  7/10, Batch: 40, Loss: 3.024559, Acc (train): 1.000000, Acc (val): 0.776758\n",
      "Epoch:  8/10, Batch: 10, Loss: 3.006548, Acc (train): 1.000000, Acc (val): 0.798165\n",
      "Epoch:  8/10, Batch: 20, Loss: 2.994873, Acc (train): 1.000000, Acc (val): 0.785933\n",
      "Epoch:  8/10, Batch: 30, Loss: 2.987401, Acc (train): 1.000000, Acc (val): 0.788991\n",
      "Epoch:  8/10, Batch: 40, Loss: 2.985834, Acc (train): 1.000000, Acc (val): 0.782875\n",
      "Epoch:  9/10, Batch: 10, Loss: 2.965481, Acc (train): 1.000000, Acc (val): 0.798165\n",
      "Epoch:  9/10, Batch: 20, Loss: 2.959851, Acc (train): 1.000000, Acc (val): 0.788991\n",
      "Epoch:  9/10, Batch: 30, Loss: 2.950912, Acc (train): 1.000000, Acc (val): 0.785933\n",
      "Epoch:  9/10, Batch: 40, Loss: 2.976305, Acc (train): 1.000000, Acc (val): 0.795107\n",
      "Epoch: 10/10, Batch: 10, Loss: 2.924278, Acc (train): 1.000000, Acc (val): 0.773700\n",
      "Epoch: 10/10, Batch: 20, Loss: 2.917332, Acc (train): 1.000000, Acc (val): 0.801223\n",
      "Epoch: 10/10, Batch: 30, Loss: 2.913838, Acc (train): 0.999234, Acc (val): 0.776758\n",
      "Epoch: 10/10, Batch: 40, Loss: 2.908061, Acc (train): 1.000000, Acc (val): 0.785933\n"
     ]
    }
   ],
   "source": [
    "acc_training_set = []\n",
    "acc_val_set = []\n",
    "\n",
    "fold = 1\n",
    "\n",
    "print(\"Training model for Fold: \", fold+1)\n",
    "dataset = FeatureDataset(f\"data/splitted/train_efficientnet_data_augmentation_ft/train_{fold}/\")\n",
    "\n",
    "train_size = int(0.8 * len(dataset))\n",
    "val_size = len(dataset) - train_size\n",
    "train_dataset, val_dataset = random_split(dataset, [train_size, val_size])\n",
    "\n",
    "train_loader = DataLoader(dataset=train_dataset, batch_size=32, shuffle=True)\n",
    "val_loader = DataLoader(dataset=val_dataset, batch_size=32, shuffle=True)\n",
    "\n",
    "train_model(model, transform_image, criterion, optimizer, acc_training_set, acc_val_set, l1_factor, train_loader, val_loader)"
   ]
  },
  {
   "cell_type": "code",
   "execution_count": 66,
   "metadata": {},
   "outputs": [
    {
     "name": "stdout",
     "output_type": "stream",
     "text": [
      "Accuracy (test): 0.7237163814180929\n"
     ]
    }
   ],
   "source": [
    "test_dataset = FeatureDataset(f\"data/splitted/test_efficientnet_ft/test\")\n",
    "test_loader = DataLoader(dataset=test_dataset, batch_size=64, shuffle=True)\n",
    "\n",
    "print(f\"Accuracy (test):\", accuracy(test_loader, model, transform_image))"
   ]
  },
  {
   "cell_type": "markdown",
   "metadata": {},
   "source": [
    "Parece ser que en este último fold el modelo no ha conseguido reducir su sobreajuste. Probaremos por último a entrenar el modelo con otro fold:"
   ]
  },
  {
   "cell_type": "code",
   "execution_count": 67,
   "metadata": {},
   "outputs": [
    {
     "name": "stdout",
     "output_type": "stream",
     "text": [
      "Training model for Fold:  3\n",
      "Epoch:  1/10, Batch: 10, Loss: 3.324787, Acc (train): 0.870498, Acc (val): 0.840979\n",
      "Epoch:  1/10, Batch: 20, Loss: 3.209246, Acc (train): 0.878161, Acc (val): 0.822630\n",
      "Epoch:  1/10, Batch: 30, Loss: 3.229341, Acc (train): 0.908046, Acc (val): 0.819572\n",
      "Epoch:  1/10, Batch: 40, Loss: 3.390493, Acc (train): 0.932567, Acc (val): 0.801223\n",
      "Epoch:  2/10, Batch: 10, Loss: 3.074435, Acc (train): 0.957088, Acc (val): 0.822630\n",
      "Epoch:  2/10, Batch: 20, Loss: 3.202864, Acc (train): 0.963985, Acc (val): 0.840979\n",
      "Epoch:  2/10, Batch: 30, Loss: 3.009018, Acc (train): 0.973180, Acc (val): 0.801223\n",
      "Epoch:  2/10, Batch: 40, Loss: 2.993419, Acc (train): 0.988506, Acc (val): 0.834862\n",
      "Epoch:  3/10, Batch: 10, Loss: 3.038551, Acc (train): 0.990038, Acc (val): 0.840979\n",
      "Epoch:  3/10, Batch: 20, Loss: 2.916192, Acc (train): 0.987739, Acc (val): 0.798165\n",
      "Epoch:  3/10, Batch: 30, Loss: 2.922866, Acc (train): 0.992337, Acc (val): 0.831804\n",
      "Epoch:  3/10, Batch: 40, Loss: 2.880342, Acc (train): 0.998467, Acc (val): 0.828746\n",
      "Epoch:  4/10, Batch: 10, Loss: 2.890876, Acc (train): 0.995402, Acc (val): 0.837920\n",
      "Epoch:  4/10, Batch: 20, Loss: 2.836567, Acc (train): 0.997701, Acc (val): 0.816514\n",
      "Epoch:  4/10, Batch: 30, Loss: 2.896640, Acc (train): 0.996935, Acc (val): 0.844037\n",
      "Epoch:  4/10, Batch: 40, Loss: 2.865418, Acc (train): 0.996169, Acc (val): 0.825688\n",
      "Epoch:  5/10, Batch: 10, Loss: 2.825839, Acc (train): 0.999234, Acc (val): 0.816514\n",
      "Epoch:  5/10, Batch: 20, Loss: 2.807098, Acc (train): 0.998467, Acc (val): 0.837920\n",
      "Epoch:  5/10, Batch: 30, Loss: 2.800158, Acc (train): 0.999234, Acc (val): 0.810398\n",
      "Epoch:  5/10, Batch: 40, Loss: 2.779946, Acc (train): 0.999234, Acc (val): 0.831804\n",
      "Epoch:  6/10, Batch: 10, Loss: 2.777451, Acc (train): 0.997701, Acc (val): 0.819572\n",
      "Epoch:  6/10, Batch: 20, Loss: 2.775802, Acc (train): 0.999234, Acc (val): 0.844037\n",
      "Epoch:  6/10, Batch: 30, Loss: 2.761162, Acc (train): 0.996169, Acc (val): 0.828746\n",
      "Epoch:  6/10, Batch: 40, Loss: 2.760511, Acc (train): 1.000000, Acc (val): 0.840979\n",
      "Epoch:  7/10, Batch: 10, Loss: 2.743526, Acc (train): 1.000000, Acc (val): 0.825688\n",
      "Epoch:  7/10, Batch: 20, Loss: 2.734137, Acc (train): 1.000000, Acc (val): 0.825688\n",
      "Epoch:  7/10, Batch: 30, Loss: 2.728933, Acc (train): 0.998467, Acc (val): 0.819572\n",
      "Epoch:  7/10, Batch: 40, Loss: 2.726318, Acc (train): 1.000000, Acc (val): 0.813456\n",
      "Epoch:  8/10, Batch: 10, Loss: 2.711023, Acc (train): 1.000000, Acc (val): 0.816514\n",
      "Epoch:  8/10, Batch: 20, Loss: 2.718133, Acc (train): 1.000000, Acc (val): 0.804281\n",
      "Epoch:  8/10, Batch: 30, Loss: 2.704152, Acc (train): 1.000000, Acc (val): 0.819572\n",
      "Epoch:  8/10, Batch: 40, Loss: 2.697412, Acc (train): 1.000000, Acc (val): 0.840979\n",
      "Epoch:  9/10, Batch: 10, Loss: 2.682862, Acc (train): 1.000000, Acc (val): 0.807339\n",
      "Epoch:  9/10, Batch: 20, Loss: 2.675736, Acc (train): 1.000000, Acc (val): 0.847095\n",
      "Epoch:  9/10, Batch: 30, Loss: 2.720891, Acc (train): 0.999234, Acc (val): 0.816514\n",
      "Epoch:  9/10, Batch: 40, Loss: 2.662169, Acc (train): 0.999234, Acc (val): 0.816514\n",
      "Epoch: 10/10, Batch: 10, Loss: 2.654332, Acc (train): 1.000000, Acc (val): 0.819572\n",
      "Epoch: 10/10, Batch: 20, Loss: 2.687119, Acc (train): 1.000000, Acc (val): 0.807339\n",
      "Epoch: 10/10, Batch: 30, Loss: 2.648058, Acc (train): 1.000000, Acc (val): 0.825688\n",
      "Epoch: 10/10, Batch: 40, Loss: 2.640203, Acc (train): 1.000000, Acc (val): 0.819572\n"
     ]
    }
   ],
   "source": [
    "fold = 2\n",
    "\n",
    "print(\"Training model for Fold: \", fold+1)\n",
    "dataset = FeatureDataset(f\"data/splitted/train_efficientnet_data_augmentation_ft/train_{fold}/\")\n",
    "\n",
    "train_size = int(0.8 * len(dataset))\n",
    "val_size = len(dataset) - train_size\n",
    "train_dataset, val_dataset = random_split(dataset, [train_size, val_size])\n",
    "\n",
    "train_loader = DataLoader(dataset=train_dataset, batch_size=32, shuffle=True)\n",
    "val_loader = DataLoader(dataset=val_dataset, batch_size=32, shuffle=True)\n",
    "\n",
    "train_model(model, transform_image, criterion, optimizer, acc_training_set, acc_val_set, l1_factor, train_loader, val_loader)"
   ]
  },
  {
   "cell_type": "code",
   "execution_count": 72,
   "metadata": {},
   "outputs": [
    {
     "name": "stdout",
     "output_type": "stream",
     "text": [
      "Accuracy (test): 0.7041564792176039\n"
     ]
    }
   ],
   "source": [
    "test_dataset = FeatureDataset(f\"data/splitted/test_efficientnet_ft/test\")\n",
    "test_loader = DataLoader(dataset=test_dataset, batch_size=64, shuffle=True)\n",
    "\n",
    "print(f\"Accuracy (test):\", accuracy(test_loader, model, transform_image))"
   ]
  },
  {
   "cell_type": "code",
   "execution_count": 76,
   "metadata": {},
   "outputs": [
    {
     "name": "stdout",
     "output_type": "stream",
     "text": [
      "[[131  61]\n",
      " [ 54 163]]\n"
     ]
    }
   ],
   "source": [
    "y_true = []\n",
    "y_pred = []\n",
    "\n",
    "for i, (image, label) in enumerate(test_loader, 1):\n",
    "    image = image.to(device)\n",
    "    label = label.to(device)\n",
    "\n",
    "    image = transform_image(image)\n",
    "\n",
    "    output = model(image).reshape(-1, 2)\n",
    "    y_pred.extend(torch.argmax(output, dim=1).tolist())\n",
    "    y_true.extend(label.tolist())\n",
    "\n",
    "cm = confusion_matrix(y_true, y_pred)\n",
    "print(cm)"
   ]
  },
  {
   "attachments": {
    "cm_eff_2.png": {
     "image/png": "[encoded data removed]"
    }
   },
   "cell_type": "markdown",
   "metadata": {},
   "source": [
    "![cm_eff_2.png](attachment:cm_eff_2.png)"
   ]
  },
  {
   "cell_type": "markdown",
   "metadata": {},
   "source": [
    "Parece ser que el modelo obtenido para un único fold es el que mejor rendimiento ha obtenido."
   ]
  },
  {
   "cell_type": "markdown",
   "metadata": {},
   "source": [
    "## ¿Y si hubieramos entrenado menos el modelo?"
   ]
  },
  {
   "cell_type": "markdown",
   "metadata": {},
   "source": [
    "Probablemente el modelo haya empezado a sobreajustarse a los datos de entrenamiento antes de llegar a la décima epoch. Para comprobarlo, entrenaremos el modelo para un único fold pero con el mismo número de épocas que antes, esta vez mostrando el accuracy obtenido para el conjunto de test en cada epoch del entrenamiento"
   ]
  },
  {
   "cell_type": "markdown",
   "metadata": {},
   "source": [
    "Procedemos con la creación del modelo:"
   ]
  },
  {
   "cell_type": "code",
   "execution_count": 125,
   "metadata": {},
   "outputs": [],
   "source": [
    "classifier = nn.Sequential(\n",
    "    nn.AdaptiveAvgPool2d(1),\n",
    "    nn.Flatten(),\n",
    "    nn.Linear(1280, 512),\n",
    "    nn.ReLU(),\n",
    "    nn.Dropout(0.2),\n",
    "    nn.Linear(512, 2)\n",
    ")"
   ]
  },
  {
   "cell_type": "code",
   "execution_count": 126,
   "metadata": {},
   "outputs": [],
   "source": [
    "model_less_epochs = nn.Sequential(\n",
    "    efficientnet.layers[6:],\n",
    "    efficientnet.features,\n",
    "    classifier\n",
    ")"
   ]
  },
  {
   "cell_type": "markdown",
   "metadata": {},
   "source": [
    "Para el entrenamiento, definimos un número de épocas, un factor de regualrización para L1 tanto para L2 y el número de folds en que dividiremos nuestro conjunto de entrenamiento para realizar validación cruzada. Utilizaremos la función de pérdida entropía cruzada y el optimizador Adam con una tasa de aprendizaje de 0.001. Para la validación, utilizaremos la métrica accuracy."
   ]
  },
  {
   "cell_type": "code",
   "execution_count": 127,
   "metadata": {},
   "outputs": [],
   "source": [
    "num_epochs = 20\n",
    "l1_factor = 0.0001\n",
    "l2_factor = 0.01"
   ]
  },
  {
   "cell_type": "code",
   "execution_count": 128,
   "metadata": {},
   "outputs": [],
   "source": [
    "criterion = nn.CrossEntropyLoss()\n",
    "optimizer = optim.Adam(model_less_epochs.parameters(), lr=0.0001, weight_decay=l2_factor)\n",
    "\n",
    "num_epochs = 10"
   ]
  },
  {
   "cell_type": "markdown",
   "metadata": {},
   "source": [
    "Procedemos a entrenar el modelo para el primer fold:"
   ]
  },
  {
   "cell_type": "code",
   "execution_count": 129,
   "metadata": {},
   "outputs": [
    {
     "name": "stdout",
     "output_type": "stream",
     "text": [
      "Training model for Fold:  1\n",
      "Epoch:  1/10, Batch: 10, Loss: 3.193589, Acc (train): 0.944853, Acc (val): 0.709046\n",
      "Epoch:  1/10, Batch: 20, Loss: 2.988772, Acc (train): 0.961397, Acc (val): 0.706601\n",
      "Epoch:  1/10, Batch: 30, Loss: 2.914002, Acc (train): 0.968137, Acc (val): 0.711491\n",
      "Epoch:  1/10, Batch: 40, Loss: 2.866963, Acc (train): 0.971814, Acc (val): 0.706601\n",
      "Epoch:  1/10, Batch: 50, Loss: 2.879562, Acc (train): 0.974265, Acc (val): 0.687042\n",
      "Epoch:  2/10, Batch: 10, Loss: 2.685781, Acc (train): 0.987745, Acc (val): 0.711491\n",
      "Epoch:  2/10, Batch: 20, Loss: 2.645966, Acc (train): 0.993873, Acc (val): 0.713936\n",
      "Epoch:  2/10, Batch: 30, Loss: 2.629205, Acc (train): 0.985294, Acc (val): 0.706601\n",
      "Epoch:  2/10, Batch: 40, Loss: 2.576847, Acc (train): 0.994485, Acc (val): 0.696822\n",
      "Epoch:  2/10, Batch: 50, Loss: 2.532907, Acc (train): 0.996936, Acc (val): 0.687042\n",
      "Epoch:  3/10, Batch: 10, Loss: 2.449046, Acc (train): 0.994485, Acc (val): 0.696822\n",
      "Epoch:  3/10, Batch: 20, Loss: 2.442044, Acc (train): 1.000000, Acc (val): 0.689487\n",
      "Epoch:  3/10, Batch: 30, Loss: 2.366622, Acc (train): 0.998775, Acc (val): 0.696822\n",
      "Epoch:  3/10, Batch: 40, Loss: 2.337332, Acc (train): 0.999387, Acc (val): 0.684597\n",
      "Epoch:  3/10, Batch: 50, Loss: 2.301061, Acc (train): 1.000000, Acc (val): 0.716381\n",
      "Epoch:  4/10, Batch: 10, Loss: 2.253442, Acc (train): 0.998775, Acc (val): 0.704156\n",
      "Epoch:  4/10, Batch: 20, Loss: 2.231982, Acc (train): 0.998162, Acc (val): 0.687042\n",
      "Epoch:  4/10, Batch: 30, Loss: 2.201570, Acc (train): 0.999387, Acc (val): 0.709046\n",
      "Epoch:  4/10, Batch: 40, Loss: 2.156815, Acc (train): 1.000000, Acc (val): 0.711491\n",
      "Epoch:  4/10, Batch: 50, Loss: 2.192200, Acc (train): 0.999387, Acc (val): 0.699267\n",
      "Epoch:  5/10, Batch: 10, Loss: 2.147786, Acc (train): 1.000000, Acc (val): 0.709046\n",
      "Epoch:  5/10, Batch: 20, Loss: 2.078576, Acc (train): 0.999387, Acc (val): 0.711491\n",
      "Epoch:  5/10, Batch: 30, Loss: 2.044157, Acc (train): 0.999387, Acc (val): 0.699267\n",
      "Epoch:  5/10, Batch: 40, Loss: 2.024935, Acc (train): 0.998775, Acc (val): 0.706601\n",
      "Epoch:  5/10, Batch: 50, Loss: 2.045532, Acc (train): 0.999387, Acc (val): 0.699267\n",
      "Epoch:  6/10, Batch: 10, Loss: 2.022671, Acc (train): 1.000000, Acc (val): 0.706601\n",
      "Epoch:  6/10, Batch: 20, Loss: 1.957432, Acc (train): 1.000000, Acc (val): 0.706601\n",
      "Epoch:  6/10, Batch: 30, Loss: 1.926947, Acc (train): 1.000000, Acc (val): 0.696822\n",
      "Epoch:  6/10, Batch: 40, Loss: 1.942941, Acc (train): 1.000000, Acc (val): 0.701711\n",
      "Epoch:  6/10, Batch: 50, Loss: 1.898041, Acc (train): 1.000000, Acc (val): 0.689487\n",
      "Epoch:  7/10, Batch: 10, Loss: 1.878660, Acc (train): 1.000000, Acc (val): 0.701711\n",
      "Epoch:  7/10, Batch: 20, Loss: 1.863600, Acc (train): 0.999387, Acc (val): 0.696822\n",
      "Epoch:  7/10, Batch: 30, Loss: 1.837323, Acc (train): 0.998775, Acc (val): 0.691932\n",
      "Epoch:  7/10, Batch: 40, Loss: 1.855525, Acc (train): 0.998775, Acc (val): 0.691932\n",
      "Epoch:  7/10, Batch: 50, Loss: 1.828184, Acc (train): 1.000000, Acc (val): 0.696822\n",
      "Epoch:  8/10, Batch: 10, Loss: 1.811743, Acc (train): 1.000000, Acc (val): 0.689487\n",
      "Epoch:  8/10, Batch: 20, Loss: 1.786202, Acc (train): 1.000000, Acc (val): 0.709046\n",
      "Epoch:  8/10, Batch: 30, Loss: 1.777568, Acc (train): 1.000000, Acc (val): 0.694377\n",
      "Epoch:  8/10, Batch: 40, Loss: 1.759235, Acc (train): 1.000000, Acc (val): 0.696822\n",
      "Epoch:  8/10, Batch: 50, Loss: 1.752550, Acc (train): 1.000000, Acc (val): 0.691932\n",
      "Epoch:  9/10, Batch: 10, Loss: 1.736936, Acc (train): 0.999387, Acc (val): 0.694377\n",
      "Epoch:  9/10, Batch: 20, Loss: 1.728313, Acc (train): 1.000000, Acc (val): 0.691932\n",
      "Epoch:  9/10, Batch: 30, Loss: 1.717798, Acc (train): 1.000000, Acc (val): 0.691932\n",
      "Epoch:  9/10, Batch: 40, Loss: 1.709132, Acc (train): 1.000000, Acc (val): 0.691932\n",
      "Epoch:  9/10, Batch: 50, Loss: 1.704950, Acc (train): 1.000000, Acc (val): 0.696822\n",
      "Epoch: 10/10, Batch: 10, Loss: 1.701720, Acc (train): 1.000000, Acc (val): 0.701711\n",
      "Epoch: 10/10, Batch: 20, Loss: 1.683374, Acc (train): 0.999387, Acc (val): 0.696822\n",
      "Epoch: 10/10, Batch: 30, Loss: 1.689665, Acc (train): 1.000000, Acc (val): 0.711491\n",
      "Epoch: 10/10, Batch: 40, Loss: 1.673906, Acc (train): 0.998775, Acc (val): 0.701711\n",
      "Epoch: 10/10, Batch: 50, Loss: 1.691274, Acc (train): 0.996324, Acc (val): 0.679707\n"
     ]
    }
   ],
   "source": [
    "acc_training_set = []\n",
    "acc_val_set = []\n",
    "\n",
    "fold = 0\n",
    "\n",
    "print(\"Training model for Fold: \", fold+1)\n",
    "dataset = FeatureDataset(f\"data/splitted/train_efficientnet_data_augmentation_ft/train_{fold}/\")\n",
    "train_loader = DataLoader(dataset=dataset, batch_size=32, shuffle=True)\n",
    "\n",
    "test_dataset = FeatureDataset(f\"data/splitted/test_efficientnet_ft/test\")\n",
    "test_loader = DataLoader(dataset=test_dataset, batch_size=64, shuffle=True)\n",
    "\n",
    "train_model(model_less_epochs, transform_image, criterion, optimizer, acc_training_set, acc_val_set, l1_factor, train_loader, test_loader)"
   ]
  },
  {
   "cell_type": "markdown",
   "metadata": {},
   "source": [
    "Parece no haber mucha mejora entre la décima epoch y las anteriores."
   ]
  },
  {
   "cell_type": "markdown",
   "metadata": {},
   "source": [
    "# Aumento Masivo de Datos"
   ]
  },
  {
   "cell_type": "markdown",
   "metadata": {},
   "source": [
    "Antes los resultados obtenidos por el modelo anterior, decidimos probar con un aumento masivo de datos, de la mano nuevamente del cross-validation. Para ello, hemos triplicado el tamaño del conjunto de entrenamiento en cada fold, además de mantener las transformaciones aleatorias entre los distintos folds sobre los datos de entrenamiento originales. El conjunto de test, por el contrario, ha permanecido intacto."
   ]
  },
  {
   "cell_type": "markdown",
   "metadata": {},
   "source": [
    "Procedemos con la creación del modelo:"
   ]
  },
  {
   "cell_type": "code",
   "execution_count": 17,
   "metadata": {},
   "outputs": [],
   "source": [
    "classifier = nn.Sequential(\n",
    "    nn.AdaptiveAvgPool2d(1),\n",
    "    nn.Flatten(),\n",
    "    nn.Linear(1280, 512),\n",
    "    nn.ReLU(),\n",
    "    nn.Dropout(0.2),\n",
    "    nn.Linear(512, 2)\n",
    ")"
   ]
  },
  {
   "cell_type": "code",
   "execution_count": 18,
   "metadata": {},
   "outputs": [],
   "source": [
    "model_mda = nn.Sequential(\n",
    "    efficientnet.layers[6:],\n",
    "    efficientnet.features,\n",
    "    classifier\n",
    ")"
   ]
  },
  {
   "cell_type": "markdown",
   "metadata": {},
   "source": [
    "Para el entrenamiento, definimos un número de épocas, un factor de regualrización para L1 tanto para L2 y el número de folds en que dividiremos nuestro conjunto de entrenamiento para realizar validación cruzada. Utilizaremos la función de pérdida entropía cruzada y el optimizador Adam con una tasa de aprendizaje de 0.001. Para la validación, utilizaremos la métrica accuracy."
   ]
  },
  {
   "cell_type": "code",
   "execution_count": 19,
   "metadata": {},
   "outputs": [],
   "source": [
    "num_epochs = 10\n",
    "l1_factor = 0.0001\n",
    "l2_factor = 0.01"
   ]
  },
  {
   "cell_type": "code",
   "execution_count": 20,
   "metadata": {},
   "outputs": [],
   "source": [
    "criterion = nn.CrossEntropyLoss()\n",
    "optimizer = optim.Adam(model_mda.parameters(), lr=0.0001, weight_decay=l2_factor)"
   ]
  },
  {
   "cell_type": "markdown",
   "metadata": {},
   "source": [
    "Procedemos a entrenar el modelo para el primer fold:"
   ]
  },
  {
   "cell_type": "code",
   "execution_count": 21,
   "metadata": {},
   "outputs": [
    {
     "name": "stdout",
     "output_type": "stream",
     "text": [
      "Training model for Fold:  1\n",
      "Epoch:  1/10, Batch: 10, Loss: 9.004392, Acc (train): 0.561479, Acc (val): 0.577017\n",
      "Epoch:  1/10, Batch: 20, Loss: 8.831636, Acc (train): 0.549632, Acc (val): 0.542787\n",
      "Epoch:  2/10, Batch: 10, Loss: 8.681262, Acc (train): 0.563521, Acc (val): 0.547677\n",
      "Epoch:  2/10, Batch: 20, Loss: 8.521671, Acc (train): 0.619894, Acc (val): 0.601467\n",
      "Epoch:  3/10, Batch: 10, Loss: 8.364111, Acc (train): 0.615400, Acc (val): 0.589242\n",
      "Epoch:  3/10, Batch: 20, Loss: 8.216187, Acc (train): 0.653799, Acc (val): 0.623472\n",
      "Epoch:  4/10, Batch: 10, Loss: 8.067754, Acc (train): 0.664011, Acc (val): 0.613692\n",
      "Epoch:  4/10, Batch: 20, Loss: 7.934400, Acc (train): 0.654616, Acc (val): 0.608802\n",
      "Epoch:  5/10, Batch: 10, Loss: 7.785292, Acc (train): 0.669322, Acc (val): 0.603912\n",
      "Epoch:  5/10, Batch: 20, Loss: 7.640598, Acc (train): 0.673815, Acc (val): 0.635697\n",
      "Epoch:  6/10, Batch: 10, Loss: 7.531450, Acc (train): 0.684436, Acc (val): 0.628362\n",
      "Epoch:  6/10, Batch: 20, Loss: 7.385005, Acc (train): 0.673407, Acc (val): 0.625917\n",
      "Epoch:  7/10, Batch: 10, Loss: 7.258960, Acc (train): 0.694240, Acc (val): 0.665037\n",
      "Epoch:  7/10, Batch: 20, Loss: 7.168613, Acc (train): 0.685866, Acc (val): 0.643032\n",
      "Epoch:  8/10, Batch: 10, Loss: 7.050666, Acc (train): 0.700980, Acc (val): 0.652812\n",
      "Epoch:  8/10, Batch: 20, Loss: 6.940419, Acc (train): 0.713031, Acc (val): 0.662592\n",
      "Epoch:  9/10, Batch: 10, Loss: 6.829447, Acc (train): 0.709763, Acc (val): 0.672372\n",
      "Epoch:  9/10, Batch: 20, Loss: 6.708938, Acc (train): 0.721405, Acc (val): 0.655257\n",
      "Epoch: 10/10, Batch: 10, Loss: 6.607605, Acc (train): 0.732435, Acc (val): 0.657702\n",
      "Epoch: 10/10, Batch: 20, Loss: 6.534286, Acc (train): 0.736520, Acc (val): 0.674817\n"
     ]
    }
   ],
   "source": [
    "acc_training_set = []\n",
    "acc_val_set = []\n",
    "\n",
    "fold = 0\n",
    "\n",
    "print(\"Training model for Fold: \", fold+1)\n",
    "dataset = FeatureDataset(f\"data/splitted/train_efficientnet_massive_data_augmentation_ft/train_{fold}/\")\n",
    "train_loader = DataLoader(dataset=dataset, batch_size=250, shuffle=True)\n",
    "\n",
    "test_dataset = FeatureDataset(f\"data/splitted/test_efficientnet_ft/test\")\n",
    "test_loader = DataLoader(dataset=test_dataset, batch_size=32, shuffle=True)\n",
    "\n",
    "train_model(model_mda, transform_image, criterion, optimizer, acc_training_set, acc_val_set, l1_factor, train_loader, test_loader)"
   ]
  },
  {
   "cell_type": "markdown",
   "metadata": {},
   "source": [
    "En vista de los malos resultados obtenidos, decidimos probar con otro fold:"
   ]
  },
  {
   "cell_type": "code",
   "execution_count": 22,
   "metadata": {},
   "outputs": [
    {
     "name": "stdout",
     "output_type": "stream",
     "text": [
      "Training model for Fold:  2\n",
      "Epoch:  1/10, Batch: 10, Loss: 6.410676, Acc (train): 0.719975, Acc (val): 0.667482\n",
      "Epoch:  1/10, Batch: 20, Loss: 6.350513, Acc (train): 0.732843, Acc (val): 0.660147\n",
      "Epoch:  2/10, Batch: 10, Loss: 6.191731, Acc (train): 0.742443, Acc (val): 0.674817\n",
      "Epoch:  2/10, Batch: 20, Loss: 6.161307, Acc (train): 0.751838, Acc (val): 0.667482\n",
      "Epoch:  3/10, Batch: 10, Loss: 6.064075, Acc (train): 0.760212, Acc (val): 0.647922\n",
      "Epoch:  3/10, Batch: 20, Loss: 5.958786, Acc (train): 0.774918, Acc (val): 0.682152\n",
      "Epoch:  4/10, Batch: 10, Loss: 5.885881, Acc (train): 0.773897, Acc (val): 0.682152\n",
      "Epoch:  4/10, Batch: 20, Loss: 5.822662, Acc (train): 0.777778, Acc (val): 0.672372\n",
      "Epoch:  5/10, Batch: 10, Loss: 5.685838, Acc (train): 0.802492, Acc (val): 0.682152\n",
      "Epoch:  5/10, Batch: 20, Loss: 5.622914, Acc (train): 0.811479, Acc (val): 0.696822\n",
      "Epoch:  6/10, Batch: 10, Loss: 5.533569, Acc (train): 0.819240, Acc (val): 0.679707\n",
      "Epoch:  6/10, Batch: 20, Loss: 5.463994, Acc (train): 0.828431, Acc (val): 0.689487\n",
      "Epoch:  7/10, Batch: 10, Loss: 5.342167, Acc (train): 0.837623, Acc (val): 0.682152\n",
      "Epoch:  7/10, Batch: 20, Loss: 5.280611, Acc (train): 0.850694, Acc (val): 0.682152\n",
      "Epoch:  8/10, Batch: 10, Loss: 5.267427, Acc (train): 0.859886, Acc (val): 0.672372\n",
      "Epoch:  8/10, Batch: 20, Loss: 5.209884, Acc (train): 0.874183, Acc (val): 0.665037\n",
      "Epoch:  9/10, Batch: 10, Loss: 5.082091, Acc (train): 0.872753, Acc (val): 0.682152\n",
      "Epoch:  9/10, Batch: 20, Loss: 5.063563, Acc (train): 0.891340, Acc (val): 0.679707\n",
      "Epoch: 10/10, Batch: 10, Loss: 4.986494, Acc (train): 0.898897, Acc (val): 0.677262\n",
      "Epoch: 10/10, Batch: 20, Loss: 4.869907, Acc (train): 0.913399, Acc (val): 0.660147\n"
     ]
    }
   ],
   "source": [
    "acc_training_set = []\n",
    "acc_val_set = []\n",
    "\n",
    "fold = 1\n",
    "\n",
    "print(\"Training model for Fold: \", fold+1)\n",
    "dataset = FeatureDataset(f\"data/splitted/train_efficientnet_massive_data_augmentation_ft/train_{fold}/\")\n",
    "train_loader = DataLoader(dataset=dataset, batch_size=250, shuffle=True)\n",
    "\n",
    "test_dataset = FeatureDataset(f\"data/splitted/test_efficientnet_ft/test\")\n",
    "test_loader = DataLoader(dataset=test_dataset, batch_size=32, shuffle=True)\n",
    "\n",
    "train_model(model_mda, transform_image, criterion, optimizer, acc_training_set, acc_val_set, l1_factor, train_loader, test_loader)"
   ]
  },
  {
   "attachments": {
    "efficientnet_folds.png": {
     "image/png": "[encoded data removed]"
    }
   },
   "cell_type": "markdown",
   "metadata": {},
   "source": [
    "![efficientnet_folds.png](attachment:efficientnet_folds.png)"
   ]
  },
  {
   "cell_type": "markdown",
   "metadata": {},
   "source": [
    "Puede apreciarse como, debido a haber aumentado el factor de penalización L2, el modelo tarda más en sobreajustarse a los datos de entrenamiento. Sin embargo, el modelo sigue sin ser capaz de generalizar bien a los datos de test."
   ]
  },
  {
   "cell_type": "markdown",
   "metadata": {},
   "source": [
    "Si entrenamos para un último fold:"
   ]
  },
  {
   "cell_type": "code",
   "execution_count": 25,
   "metadata": {},
   "outputs": [
    {
     "name": "stdout",
     "output_type": "stream",
     "text": [
      "Training model for Fold:  3\n",
      "Epoch:  1/10, Batch: 10, Loss: 4.954699, Acc (train): 0.835784, Acc (val): 0.694377\n",
      "Epoch:  1/10, Batch: 20, Loss: 4.846735, Acc (train): 0.858864, Acc (val): 0.652812\n",
      "Epoch:  2/10, Batch: 10, Loss: 4.747049, Acc (train): 0.877655, Acc (val): 0.662592\n",
      "Epoch:  2/10, Batch: 20, Loss: 4.748132, Acc (train): 0.899101, Acc (val): 0.672372\n",
      "Epoch:  3/10, Batch: 10, Loss: 4.602305, Acc (train): 0.910948, Acc (val): 0.665037\n",
      "Epoch:  3/10, Batch: 20, Loss: 4.596317, Acc (train): 0.920956, Acc (val): 0.677262\n",
      "Epoch:  4/10, Batch: 10, Loss: 4.518649, Acc (train): 0.933415, Acc (val): 0.682152\n",
      "Epoch:  4/10, Batch: 20, Loss: 4.472551, Acc (train): 0.940768, Acc (val): 0.647922\n",
      "Epoch:  5/10, Batch: 10, Loss: 4.410339, Acc (train): 0.950368, Acc (val): 0.655257\n",
      "Epoch:  5/10, Batch: 20, Loss: 4.306159, Acc (train): 0.960172, Acc (val): 0.647922\n",
      "Epoch:  6/10, Batch: 10, Loss: 4.264802, Acc (train): 0.966708, Acc (val): 0.640587\n",
      "Epoch:  6/10, Batch: 20, Loss: 4.232508, Acc (train): 0.975490, Acc (val): 0.633252\n",
      "Epoch:  7/10, Batch: 10, Loss: 4.168057, Acc (train): 0.981005, Acc (val): 0.640587\n",
      "Epoch:  7/10, Batch: 20, Loss: 4.140778, Acc (train): 0.985090, Acc (val): 0.640587\n",
      "Epoch:  8/10, Batch: 10, Loss: 4.054069, Acc (train): 0.989788, Acc (val): 0.633252\n",
      "Epoch:  8/10, Batch: 20, Loss: 4.018177, Acc (train): 0.992034, Acc (val): 0.640587\n",
      "Epoch:  9/10, Batch: 10, Loss: 3.962088, Acc (train): 0.993668, Acc (val): 0.628362\n",
      "Epoch:  9/10, Batch: 20, Loss: 3.927933, Acc (train): 0.995915, Acc (val): 0.655257\n",
      "Epoch: 10/10, Batch: 10, Loss: 3.857211, Acc (train): 0.996732, Acc (val): 0.645477\n",
      "Epoch: 10/10, Batch: 20, Loss: 3.832118, Acc (train): 0.997549, Acc (val): 0.643032\n"
     ]
    }
   ],
   "source": [
    "acc_training_set = []\n",
    "acc_val_set = []\n",
    "\n",
    "fold = 2\n",
    "\n",
    "print(\"Training model for Fold: \", fold+1)\n",
    "dataset = FeatureDataset(f\"data/splitted/train_efficientnet_massive_data_augmentation_ft/train_{fold}/\")\n",
    "train_loader = DataLoader(dataset=dataset, batch_size=250, shuffle=True)\n",
    "\n",
    "test_dataset = FeatureDataset(f\"data/splitted/test_efficientnet_ft/test\")\n",
    "test_loader = DataLoader(dataset=test_dataset, batch_size=32, shuffle=True)\n",
    "\n",
    "train_model(model_mda, transform_image, criterion, optimizer, acc_training_set, acc_val_set, l1_factor, train_loader, test_loader)"
   ]
  }
 ],
 "metadata": {
  "kernelspec": {
   "display_name": "aa1",
   "language": "python",
   "name": "python3"
  },
  "language_info": {
   "codemirror_mode": {
    "name": "ipython",
    "version": 3
   },
   "file_extension": ".py",
   "mimetype": "text/x-python",
   "name": "python",
   "nbconvert_exporter": "python",
   "pygments_lexer": "ipython3",
   "version": "3.9.16"
  }
 },
 "nbformat": 4,
 "nbformat_minor": 2
}
