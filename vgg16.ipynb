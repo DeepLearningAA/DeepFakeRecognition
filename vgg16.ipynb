{
 "cells": [
  {
   "cell_type": "markdown",
   "metadata": {},
   "source": [
    "# Deep Fake Detection. Vgg16"
   ]
  },
  {
   "cell_type": "markdown",
   "metadata": {},
   "source": [
    "Importamos las librerías necesarias para el proyecto. Entre ellas, se encuentran las librerías de Pytorch, que nos permitirán utilizar la red convolucional VGG16 pre-entrenada para adaptarla a nuestro problema (transfer learning)."
   ]
  },
  {
   "cell_type": "code",
   "execution_count": 18,
   "metadata": {},
   "outputs": [],
   "source": [
    "import torch\n",
    "import torch.nn as nn\n",
    "import torch.nn.functional as F\n",
    "import torch.optim as optim\n",
    "\n",
    "import torchvision\n",
    "from torchvision import models\n",
    "import torchvision.transforms as transforms\n",
    "\n",
    "from torch.optim import lr_scheduler\n",
    "\n",
    "from torch.utils.data import random_split, DataLoader\n",
    "from dataset_handlers.vgg16.vgg16_feature_dataset import FeatureDataset\n",
    "\n",
    "from sklearn.model_selection import KFold\n",
    "\n",
    "import os\n",
    "from PIL import Image\n",
    "from matplotlib import pyplot as plt"
   ]
  },
  {
   "cell_type": "markdown",
   "metadata": {},
   "source": [
    "Lo primero será cargar el modelo VGG16 con sus pesos ya entrenados, y comprobamos que funciona correctamente para nuestro dataset."
   ]
  },
  {
   "cell_type": "code",
   "execution_count": 20,
   "metadata": {},
   "outputs": [],
   "source": [
    "vgg16 = models.vgg16(weights='VGG16_Weights.IMAGENET1K_V1')"
   ]
  },
  {
   "cell_type": "markdown",
   "metadata": {},
   "source": [
    "### Cargamos nuestro dataset"
   ]
  },
  {
   "cell_type": "markdown",
   "metadata": {},
   "source": [
    "Cargado el modelo, podemos proceder a cargar nuestro dataset. Se utilizará un dataset de Kaggle, que contiene entorno a 2000 imágenes rostros de personas, balanceadas entre deep-fakes e imágenes reales. Se divide en dos carpetas, una para cada tipo de imagen."
   ]
  },
  {
   "cell_type": "code",
   "execution_count": 6,
   "metadata": {},
   "outputs": [],
   "source": [
    "transform = transforms.Compose([\n",
    "    transforms.Resize((224, 224)),\n",
    "    transforms.ToTensor()\n",
    "])"
   ]
  },
  {
   "cell_type": "code",
   "execution_count": 7,
   "metadata": {},
   "outputs": [],
   "source": [
    "dataset = torchvision.datasets.ImageFolder(\n",
    "    root='data/real_and_fake_face',\n",
    "    transform=transform\n",
    ")"
   ]
  },
  {
   "cell_type": "code",
   "execution_count": 8,
   "metadata": {},
   "outputs": [],
   "source": [
    "train_size = int(0.8 * len(dataset))\n",
    "test_size = len(dataset) - train_size\n",
    "train_dataset, test_dataset = random_split(dataset, [train_size, test_size])"
   ]
  },
  {
   "cell_type": "code",
   "execution_count": 9,
   "metadata": {},
   "outputs": [],
   "source": [
    "train_loader = DataLoader(dataset=train_dataset, batch_size=32, shuffle=True)\n",
    "test_loader = DataLoader(dataset=test_dataset, batch_size=32, shuffle=True)"
   ]
  },
  {
   "cell_type": "markdown",
   "metadata": {},
   "source": [
    "A continuación, comprobamos que los datos transformados son compatibles con el modelo"
   ]
  },
  {
   "cell_type": "code",
   "execution_count": 10,
   "metadata": {},
   "outputs": [
    {
     "name": "stdout",
     "output_type": "stream",
     "text": [
      "tensor([669, 903, 838, 903, 617, 793, 452, 452, 643, 903, 452, 678, 457, 838,\n",
      "        793, 452, 903, 793, 691, 876, 838, 903, 838, 457, 452, 452, 903, 838,\n",
      "        617, 433, 903, 433])\n"
     ]
    }
   ],
   "source": [
    "img, _ = next(iter(train_loader))\n",
    "out = vgg16(img)\n",
    "print(torch.argmax(out, dim=1))"
   ]
  },
  {
   "cell_type": "markdown",
   "metadata": {},
   "source": [
    "### Aplicamos transfer learning"
   ]
  },
  {
   "cell_type": "code",
   "execution_count": 11,
   "metadata": {},
   "outputs": [],
   "source": [
    "vgg16.classifier[0] = nn.Linear(25088, 512)\n",
    "vgg16.classifier[3] = nn.Linear(512, 128)\n",
    "vgg16.classifier[6] = nn.Linear(128, 2)"
   ]
  },
  {
   "cell_type": "code",
   "execution_count": 12,
   "metadata": {},
   "outputs": [],
   "source": [
    "num_epochs = 10\n",
    "device = torch.device('cuda' if torch.cuda.is_available() else 'cpu')"
   ]
  },
  {
   "cell_type": "code",
   "execution_count": 13,
   "metadata": {},
   "outputs": [],
   "source": [
    "critereon = nn.CrossEntropyLoss()\n",
    "optimizer = optim.Adam(vgg16.classifier.parameters() ,lr=0.0001)"
   ]
  },
  {
   "cell_type": "code",
   "execution_count": 16,
   "metadata": {},
   "outputs": [],
   "source": [
    "def accuracy(data_loader, model):\n",
    "    acc = 0\n",
    "    for i, (image, label) in enumerate(data_loader, 1):\n",
    "        image = image.to(device)\n",
    "        label = label.to(device)\n",
    "\n",
    "        output = model(image)\n",
    "        acc += (torch.argmax(output, dim=1) == label).sum().item()\n",
    "\n",
    "    return acc / len(data_loader.dataset)"
   ]
  },
  {
   "cell_type": "code",
   "execution_count": null,
   "metadata": {},
   "outputs": [],
   "source": [
    "acc_training_set = []\n",
    "acc_val_set = []\n",
    "l1_factor = 0.000001\n",
    "\n",
    "for epoch in range(num_epochs):\n",
    "    for i, (image, label) in enumerate(train_loader, 1):\n",
    "        image = image.to(device)\n",
    "        label = label.to(device)\n",
    "\n",
    "        output = vgg16(image)\n",
    "        loss = critereon(output, label)\n",
    "\n",
    "        l1_regularization = torch.tensor(0., requires_grad=False)\n",
    "        for param in vgg16.parameters():\n",
    "            l1_regularization += torch.norm(param, 1)\n",
    "\n",
    "        l1_regularization.requires_grad_(True)\n",
    "        print(l1_regularization)\n",
    "\n",
    "        loss += l1_factor * l1_regularization\n",
    "\n",
    "        optimizer.zero_grad()\n",
    "        loss.backward()\n",
    "        optimizer.step()\n",
    "\n",
    "        if i % 10 == 0:\n",
    "            acc_val_set.append(accuracy(test_loader, vgg16))\n",
    "\n",
    "            print('Epoch: {}/{}, Batch: {}, Loss: {:.6f}, Acc (val): {:.6f}'.format(epoch+1, num_epochs, i, loss.item(), acc_val_set[-1]))\n",
    "\n",
    "    l1_factor *= 10"
   ]
  },
  {
   "cell_type": "code",
   "execution_count": null,
   "metadata": {},
   "outputs": [],
   "source": [
    "acc = 0\n",
    "for i, (image, label) in enumerate(test_loader, 1):\n",
    "    image = image.to(device)\n",
    "    label = label.to(device)\n",
    "\n",
    "    output = vgg16(image)\n",
    "    acc += (torch.argmax(output, dim=1) == label).sum().item()\n",
    "\n",
    "print(\"Se ha obtenido un accuracy del \", acc/len(test_dataset)*100, \"% en el conjunto de test\")"
   ]
  },
  {
   "cell_type": "markdown",
   "metadata": {},
   "source": [
    "## Fine-tuning"
   ]
  },
  {
   "cell_type": "markdown",
   "metadata": {},
   "source": [
    "Modificaremos la última capa de la red para adaptarla a una red de clasificación binaria. Por defecto, la última capa de la red VGG16 es una capa densa con 1000 neuronas, que se corresponde con las 1000 clases de ImageNet. En nuestro caso, necesitamos una capa densa con 2 neuronas, que se corresponde con las clases real (1) y fake (0)."
   ]
  },
  {
   "cell_type": "code",
   "execution_count": 21,
   "metadata": {},
   "outputs": [],
   "source": [
    "vgg16.classifier[0] = nn.Linear(25088, 512)\n",
    "vgg16.classifier[3] = nn.Linear(512, 128)\n",
    "vgg16.classifier[6] = nn.Linear(128, 2)"
   ]
  },
  {
   "cell_type": "markdown",
   "metadata": {},
   "source": [
    "Solo entrenaremos las capas convolucionales de la red encargadas de detectar características más específicas. El resto de capas se mantendrán congeladas para evitar que se modifiquen los pesos ya entrenados. Para evitar el feedwforward desde la capa de entrada en la VGG-16, definimos un nuevo modelo que solo incluye las capas a reentrenar, y tomamos el dataset 'train_and_fake_conv_features' como entrada, que contiene los tensores de salida de la última capa convolucional del modelo original que queríamos congelar."
   ]
  },
  {
   "cell_type": "code",
   "execution_count": 22,
   "metadata": {},
   "outputs": [],
   "source": [
    "vgg16 = nn.Sequential(\n",
    "    vgg16.features[24:],\n",
    "    vgg16.avgpool,\n",
    "    nn.Flatten(),\n",
    "    vgg16.classifier\n",
    ")"
   ]
  },
  {
   "cell_type": "markdown",
   "metadata": {},
   "source": [
    "Dicho dataset lo cargaremos de la siguiente manera"
   ]
  },
  {
   "cell_type": "code",
   "execution_count": 24,
   "metadata": {},
   "outputs": [],
   "source": [
    "transform = transforms.Compose([\n",
    "    transforms.Resize((14, 14))\n",
    "])\n",
    "\n",
    "dataset = FeatureDataset(\"data/real_and_fake_conv_features\", transform=transform)"
   ]
  },
  {
   "cell_type": "code",
   "execution_count": 25,
   "metadata": {},
   "outputs": [],
   "source": [
    "train_size = int(0.8 * len(dataset))\n",
    "test_size = len(dataset) - train_size\n",
    "train_dataset, test_dataset = random_split(dataset, [train_size, test_size])\n",
    "\n",
    "train_size = int(0.8 * len(train_dataset))\n",
    "val_size = len(train_dataset) - train_size\n",
    "train_dataset, val_dataset = random_split(train_dataset, [train_size, val_size])"
   ]
  },
  {
   "cell_type": "code",
   "execution_count": 26,
   "metadata": {},
   "outputs": [],
   "source": [
    "train_loader = DataLoader(dataset=train_dataset, batch_size=32, shuffle=True)\n",
    "val_loader = DataLoader(dataset=val_dataset, batch_size=32, shuffle=True)\n",
    "test_loader = DataLoader(dataset=test_dataset, batch_size=32, shuffle=True)"
   ]
  },
  {
   "cell_type": "markdown",
   "metadata": {},
   "source": [
    "A continuación, entrenamos el modelo definido"
   ]
  },
  {
   "cell_type": "code",
   "execution_count": 27,
   "metadata": {},
   "outputs": [],
   "source": [
    "num_epochs = 10\n",
    "device = torch.device('cuda' if torch.cuda.is_available() else 'cpu')"
   ]
  },
  {
   "cell_type": "code",
   "execution_count": 28,
   "metadata": {},
   "outputs": [],
   "source": [
    "critereon = nn.CrossEntropyLoss()\n",
    "optimizer = optim.Adam(vgg16.parameters(), lr=0.0001, weight_decay=0.0001)"
   ]
  },
  {
   "cell_type": "code",
   "execution_count": 29,
   "metadata": {},
   "outputs": [
    {
     "name": "stdout",
     "output_type": "stream",
     "text": [
      "Epoch: 1/10, Batch: 10, Loss: 13.450161, Acc (train): 0.585441, Acc (val): 0.541284\n",
      "Epoch: 1/10, Batch: 20, Loss: 12.711085, Acc (train): 0.630651, Acc (val): 0.593272\n",
      "Epoch: 1/10, Batch: 30, Loss: 11.988889, Acc (train): 0.656705, Acc (val): 0.596330\n",
      "Epoch: 1/10, Batch: 40, Loss: 11.354239, Acc (train): 0.675862, Acc (val): 0.636086\n",
      "Epoch: 2/10, Batch: 10, Loss: 10.811815, Acc (train): 0.701149, Acc (val): 0.568807\n",
      "Epoch: 2/10, Batch: 20, Loss: 10.360247, Acc (train): 0.742529, Acc (val): 0.596330\n",
      "Epoch: 2/10, Batch: 30, Loss: 9.901059, Acc (train): 0.754789, Acc (val): 0.590214\n",
      "Epoch: 2/10, Batch: 40, Loss: 9.503146, Acc (train): 0.745594, Acc (val): 0.599388\n",
      "Epoch: 3/10, Batch: 10, Loss: 9.098294, Acc (train): 0.804598, Acc (val): 0.596330\n",
      "Epoch: 3/10, Batch: 20, Loss: 8.963779, Acc (train): 0.818391, Acc (val): 0.617737\n",
      "Epoch: 3/10, Batch: 30, Loss: 8.754753, Acc (train): 0.860536, Acc (val): 0.584098\n",
      "Epoch: 3/10, Batch: 40, Loss: 8.329248, Acc (train): 0.883525, Acc (val): 0.602446\n",
      "Epoch: 4/10, Batch: 10, Loss: 8.017317, Acc (train): 0.869732, Acc (val): 0.587156\n",
      "Epoch: 4/10, Batch: 20, Loss: 7.893936, Acc (train): 0.894253, Acc (val): 0.584098\n",
      "Epoch: 4/10, Batch: 30, Loss: 7.743400, Acc (train): 0.908046, Acc (val): 0.620795\n",
      "Epoch: 4/10, Batch: 40, Loss: 7.567185, Acc (train): 0.855939, Acc (val): 0.608563\n",
      "Epoch: 5/10, Batch: 10, Loss: 7.188254, Acc (train): 0.922605, Acc (val): 0.581040\n",
      "Epoch: 5/10, Batch: 20, Loss: 7.144200, Acc (train): 0.930268, Acc (val): 0.648318\n",
      "Epoch: 5/10, Batch: 30, Loss: 7.109154, Acc (train): 0.949425, Acc (val): 0.605505\n",
      "Epoch: 5/10, Batch: 40, Loss: 7.074131, Acc (train): 0.937165, Acc (val): 0.602446\n"
     ]
    }
   ],
   "source": [
    "acc_training_set = []\n",
    "acc_val_set = []\n",
    "l1_factor = 0.0001\n",
    "\n",
    "for epoch in range(num_epochs):\n",
    "    for i, (image, label) in enumerate(train_loader, 1):\n",
    "        image = image.to(device)\n",
    "        label = label.to(device)\n",
    "\n",
    "        output = vgg16(image)\n",
    "        loss = critereon(output, label)\n",
    "\n",
    "        l1_regularization = torch.tensor(0., requires_grad=False)\n",
    "        for param in vgg16.parameters():\n",
    "            l1_regularization += torch.norm(param, 1)\n",
    "\n",
    "        l1_regularization.requires_grad_(True)\n",
    "\n",
    "        loss += l1_factor * l1_regularization\n",
    "\n",
    "        optimizer.zero_grad()\n",
    "        loss.backward()\n",
    "        optimizer.step()\n",
    "\n",
    "        if i % 10 == 0:\n",
    "            acc_training_set.append(accuracy(train_loader, vgg16))\n",
    "            acc_val_set.append(accuracy(val_loader, vgg16))\n",
    "\n",
    "            print('Epoch: {}/{}, Batch: {}, Loss: {:.6f}, Acc (train): {:.6f}, Acc (val): {:.6f}'\n",
    "                  .format(epoch+1, num_epochs, i, loss.item(), acc_training_set[-1], acc_val_set[-1]))"
   ]
  },
  {
   "cell_type": "code",
   "execution_count": null,
   "metadata": {},
   "outputs": [
    {
     "name": "stdout",
     "output_type": "stream",
     "text": [
      "Se ha obtenido un accuracy del  100.0 % en el conjunto de entrenamiento\n"
     ]
    }
   ],
   "source": [
    "acc = 0\n",
    "for i, (image, label) in enumerate(train_loader, 1):\n",
    "    image = image.to(device)\n",
    "    label = label.to(device)\n",
    "\n",
    "    output = vgg16(image)\n",
    "    acc += (torch.argmax(output, dim=1) == label).sum().item()\n",
    "\n",
    "print(\"Se ha obtenido un accuracy del \", acc/len(train_dataset)*100, \"% en el conjunto de entrenamiento\")"
   ]
  },
  {
   "cell_type": "code",
   "execution_count": 1,
   "metadata": {},
   "outputs": [
    {
     "name": "stdout",
     "output_type": "stream",
     "text": [
      "Se ha obtenido un accuracy del  61.3% en el conjunto de test\n"
     ]
    }
   ],
   "source": [
    "acc = 0\n",
    "for i, (image, label) in enumerate(test_loader, 1):\n",
    "    image = image.to(device)\n",
    "    label = label.to(device)\n",
    "\n",
    "    output = vgg16(image)\n",
    "    acc += (torch.argmax(output, dim=1) == label).sum().item()\n",
    "\n",
    "print(\"Se ha obtenido un accuracy del \", acc/len(test_dataset)*100, \"% en el conjunto de test\")"
   ]
  },
  {
   "cell_type": "markdown",
   "metadata": {},
   "source": [
    "El modelo se sobreajusta enhormemente, por lo que se procede al desarrollo de un modelo con un menor número de capas en su parte densa."
   ]
  },
  {
   "cell_type": "markdown",
   "metadata": {},
   "source": [
    "# Modelo con menos capas convolutivas (y regularización L1)"
   ]
  },
  {
   "cell_type": "markdown",
   "metadata": {},
   "source": [
    "El sobreajuste quizás se deba a que el modelo VGG16 es demasiado complejo para nuestro problema. Por ello, se desarrolla un nuevo modelo con menos capas convolutivas, y se añade regularización L1 para evitar el sobreajuste."
   ]
  },
  {
   "cell_type": "code",
   "execution_count": 73,
   "metadata": {},
   "outputs": [],
   "source": [
    "vgg16 = models.vgg16(weights='VGG16_Weights.IMAGENET1K_V1')"
   ]
  },
  {
   "cell_type": "markdown",
   "metadata": {},
   "source": [
    "Le quitaremos las dos últimas capas convolutivas, y además haremos fine-tuning al modelo entrenando, a parte de su capa FC, las dos últimas capas convolutivas."
   ]
  },
  {
   "cell_type": "code",
   "execution_count": 84,
   "metadata": {},
   "outputs": [],
   "source": [
    "reduced = nn.Sequential(\n",
    "    vgg16.features[17:21],\n",
    "    nn.AdaptiveAvgPool2d((7,7)),\n",
    "    nn.Flatten(),\n",
    "    nn.Linear(25088, 128, bias=True),\n",
    "    nn.BatchNorm1d(128, eps=1e-05, momentum=0.1, affine=True, track_running_stats=True),\n",
    "    nn.ReLU(inplace=True),\n",
    "    nn.AlphaDropout(p=0.5, inplace=False),\n",
    "    nn.Linear(128, 2, bias=True)\n",
    ")"
   ]
  },
  {
   "cell_type": "markdown",
   "metadata": {},
   "source": [
    "El modelo resultante se vería de la siguiente forma"
   ]
  },
  {
   "cell_type": "code",
   "execution_count": 85,
   "metadata": {},
   "outputs": [
    {
     "data": {
      "text/plain": [
       "Sequential(\n",
       "  (0): Sequential(\n",
       "    (17): Conv2d(256, 512, kernel_size=(3, 3), stride=(1, 1), padding=(1, 1))\n",
       "    (18): ReLU(inplace=True)\n",
       "    (19): Conv2d(512, 512, kernel_size=(3, 3), stride=(1, 1), padding=(1, 1))\n",
       "    (20): ReLU(inplace=True)\n",
       "  )\n",
       "  (1): AdaptiveAvgPool2d(output_size=(7, 7))\n",
       "  (2): Flatten(start_dim=1, end_dim=-1)\n",
       "  (3): Linear(in_features=25088, out_features=128, bias=True)\n",
       "  (4): BatchNorm1d(128, eps=1e-05, momentum=0.1, affine=True, track_running_stats=True)\n",
       "  (5): ReLU(inplace=True)\n",
       "  (6): AlphaDropout(p=0.5, inplace=False)\n",
       "  (7): Linear(in_features=128, out_features=2, bias=True)\n",
       ")"
      ]
     },
     "execution_count": 85,
     "metadata": {},
     "output_type": "execute_result"
    }
   ],
   "source": [
    "reduced"
   ]
  },
  {
   "cell_type": "markdown",
   "metadata": {},
   "source": [
    "A continuación, cargamos el conjunto de datos"
   ]
  },
  {
   "cell_type": "code",
   "execution_count": 87,
   "metadata": {},
   "outputs": [],
   "source": [
    "transform = transforms.Compose([\n",
    "    transforms.Resize((28, 28), antialias=True),\n",
    "])\n",
    "\n",
    "dataset = FeatureDataset(\"data/real_and_fake_vgg16_17\", transform=transform)"
   ]
  },
  {
   "cell_type": "markdown",
   "metadata": {},
   "source": [
    "y lo dividimos en train y test"
   ]
  },
  {
   "cell_type": "code",
   "execution_count": 88,
   "metadata": {},
   "outputs": [],
   "source": [
    "train_size = int(0.8 * len(dataset))\n",
    "test_size = len(dataset) - train_size\n",
    "train_dataset, test_dataset = random_split(dataset, [train_size, test_size])\n",
    "\n",
    "train_size = int(0.8 * len(train_dataset))\n",
    "val_size = len(train_dataset) - train_size\n",
    "train_dataset, val_dataset = random_split(train_dataset, [train_size, val_size])"
   ]
  },
  {
   "cell_type": "code",
   "execution_count": 89,
   "metadata": {},
   "outputs": [],
   "source": [
    "train_loader = DataLoader(dataset=train_dataset, batch_size=32, shuffle=True)\n",
    "val_loader = DataLoader(dataset=val_dataset, batch_size=32, shuffle=True)\n",
    "test_loader = DataLoader(dataset=test_dataset, batch_size=32, shuffle=True)"
   ]
  },
  {
   "cell_type": "markdown",
   "metadata": {},
   "source": [
    "## Entrenamos el modelo"
   ]
  },
  {
   "cell_type": "markdown",
   "metadata": {},
   "source": [
    "Tendremos un proceso de entrenamiento con 10 epochs, y un batch size de 32 (definido en el chunck anterior). El optimizador será Adam, y la función de pérdida será la Cross Entropy."
   ]
  },
  {
   "cell_type": "code",
   "execution_count": 90,
   "metadata": {},
   "outputs": [],
   "source": [
    "num_epochs = 10\n",
    "device = torch.device('cuda' if torch.cuda.is_available() else 'cpu')"
   ]
  },
  {
   "cell_type": "code",
   "execution_count": 91,
   "metadata": {},
   "outputs": [],
   "source": [
    "critereon = nn.CrossEntropyLoss()\n",
    "optimizer = optim.Adam(reduced.parameters() ,lr=0.0001, weight_decay=0.0001)"
   ]
  },
  {
   "cell_type": "code",
   "execution_count": 93,
   "metadata": {},
   "outputs": [
    {
     "name": "stdout",
     "output_type": "stream",
     "text": [
      "Epoch: 1/10, Batch: 10, Loss: 6.351156, Acc (train): 0.619923, Acc (val): 0.645260\n",
      "Epoch: 1/10, Batch: 20, Loss: 5.862018, Acc (train): 0.643678, Acc (val): 0.663609\n",
      "Epoch: 1/10, Batch: 30, Loss: 5.850484, Acc (train): 0.674330, Acc (val): 0.626911\n",
      "Epoch: 1/10, Batch: 40, Loss: 5.584894, Acc (train): 0.702682, Acc (val): 0.581040\n",
      "Epoch: 2/10, Batch: 10, Loss: 5.446470, Acc (train): 0.718774, Acc (val): 0.602446\n",
      "Epoch: 2/10, Batch: 20, Loss: 5.408345, Acc (train): 0.723372, Acc (val): 0.623853\n",
      "Epoch: 2/10, Batch: 30, Loss: 5.200565, Acc (train): 0.760153, Acc (val): 0.593272\n",
      "Epoch: 2/10, Batch: 40, Loss: 4.908703, Acc (train): 0.762452, Acc (val): 0.654434\n",
      "Epoch: 3/10, Batch: 10, Loss: 4.846478, Acc (train): 0.777011, Acc (val): 0.651376\n",
      "Epoch: 3/10, Batch: 20, Loss: 4.777230, Acc (train): 0.797701, Acc (val): 0.614679\n",
      "Epoch: 3/10, Batch: 30, Loss: 4.759680, Acc (train): 0.828352, Acc (val): 0.669725\n",
      "Epoch: 3/10, Batch: 40, Loss: 4.589561, Acc (train): 0.829119, Acc (val): 0.651376\n",
      "Epoch: 4/10, Batch: 10, Loss: 4.378416, Acc (train): 0.837548, Acc (val): 0.663609\n",
      "Epoch: 4/10, Batch: 20, Loss: 4.247798, Acc (train): 0.844444, Acc (val): 0.645260\n",
      "Epoch: 4/10, Batch: 30, Loss: 4.168532, Acc (train): 0.854406, Acc (val): 0.645260\n",
      "Epoch: 4/10, Batch: 40, Loss: 4.126912, Acc (train): 0.873563, Acc (val): 0.651376\n",
      "Epoch: 5/10, Batch: 10, Loss: 3.822947, Acc (train): 0.888123, Acc (val): 0.685015\n",
      "Epoch: 5/10, Batch: 20, Loss: 3.926243, Acc (train): 0.873563, Acc (val): 0.651376\n",
      "Epoch: 5/10, Batch: 30, Loss: 3.739011, Acc (train): 0.877395, Acc (val): 0.672783\n",
      "Epoch: 5/10, Batch: 40, Loss: 3.656287, Acc (train): 0.889655, Acc (val): 0.611621\n",
      "Epoch: 6/10, Batch: 10, Loss: 3.570324, Acc (train): 0.890421, Acc (val): 0.681957\n",
      "Epoch: 6/10, Batch: 20, Loss: 3.480491, Acc (train): 0.901916, Acc (val): 0.654434\n",
      "Epoch: 6/10, Batch: 30, Loss: 3.396230, Acc (train): 0.878927, Acc (val): 0.639144\n",
      "Epoch: 6/10, Batch: 40, Loss: 3.328540, Acc (train): 0.908046, Acc (val): 0.654434\n",
      "Epoch: 7/10, Batch: 10, Loss: 3.211657, Acc (train): 0.912644, Acc (val): 0.669725\n",
      "Epoch: 7/10, Batch: 20, Loss: 3.155096, Acc (train): 0.921839, Acc (val): 0.623853\n",
      "Epoch: 7/10, Batch: 30, Loss: 3.060030, Acc (train): 0.919540, Acc (val): 0.663609\n",
      "Epoch: 7/10, Batch: 40, Loss: 3.071420, Acc (train): 0.929502, Acc (val): 0.648318\n",
      "Epoch: 8/10, Batch: 10, Loss: 2.987457, Acc (train): 0.918774, Acc (val): 0.636086\n",
      "Epoch: 8/10, Batch: 20, Loss: 2.873910, Acc (train): 0.918774, Acc (val): 0.639144\n",
      "Epoch: 8/10, Batch: 30, Loss: 2.850538, Acc (train): 0.927203, Acc (val): 0.685015\n",
      "Epoch: 8/10, Batch: 40, Loss: 2.879797, Acc (train): 0.925670, Acc (val): 0.657492\n",
      "Epoch: 9/10, Batch: 10, Loss: 2.743783, Acc (train): 0.918774, Acc (val): 0.645260\n",
      "Epoch: 9/10, Batch: 20, Loss: 2.642916, Acc (train): 0.924904, Acc (val): 0.663609\n",
      "Epoch: 9/10, Batch: 30, Loss: 2.589374, Acc (train): 0.931801, Acc (val): 0.648318\n",
      "Epoch: 9/10, Batch: 40, Loss: 2.626916, Acc (train): 0.915709, Acc (val): 0.648318\n",
      "Epoch: 10/10, Batch: 10, Loss: 2.511755, Acc (train): 0.936398, Acc (val): 0.642202\n",
      "Epoch: 10/10, Batch: 20, Loss: 2.412240, Acc (train): 0.931034, Acc (val): 0.660550\n",
      "Epoch: 10/10, Batch: 30, Loss: 2.402111, Acc (train): 0.934100, Acc (val): 0.681957\n",
      "Epoch: 10/10, Batch: 40, Loss: 2.412341, Acc (train): 0.935632, Acc (val): 0.642202\n"
     ]
    }
   ],
   "source": [
    "acc_training_set = []\n",
    "acc_val_set = []\n",
    "l1_lambda = 0.0001\n",
    "\n",
    "for epoch in range(num_epochs):\n",
    "    for i, (image, label) in enumerate(train_loader, 1):\n",
    "        image = image.to(device)\n",
    "        label = label.to(device)\n",
    "\n",
    "        output = reduced(image)\n",
    "        loss = critereon(output, label)\n",
    "\n",
    "        reduced.requires_grad_(True)\n",
    "        l1_regularization = torch.tensor(0., requires_grad=False)\n",
    "        for param in reduced.parameters():\n",
    "            l1_regularization += torch.norm(param, 1)\n",
    "\n",
    "        l1_regularization.requires_grad_(True)\n",
    "    \n",
    "        loss += l1_lambda * l1_regularization\n",
    "\n",
    "        optimizer.zero_grad()\n",
    "        loss.backward()\n",
    "        optimizer.step()\n",
    "\n",
    "        if i % 10 == 0:\n",
    "            acc_training_set.append(accuracy(train_loader, reduced))\n",
    "            acc_val_set.append(accuracy(val_loader, reduced))\n",
    "\n",
    "            print('Epoch: {}/{}, Batch: {}, Loss: {:.6f}, Acc (train): {:.6f}, Acc (val): {:.6f}'\n",
    "                  .format(epoch+1, num_epochs, i, loss.item(), acc_training_set[-1], acc_val_set[-1]))"
   ]
  },
  {
   "attachments": {
    "vgg16_training.png": {
     "image/png": "[encoded data removed]"
    }
   },
   "cell_type": "markdown",
   "metadata": {},
   "source": [
    "![vgg16_training.png](attachment:vgg16_training.png)"
   ]
  },
  {
   "cell_type": "markdown",
   "metadata": {},
   "source": [
    "# Cross-Validation (Con regularización L1 y L2)"
   ]
  },
  {
   "cell_type": "markdown",
   "metadata": {},
   "source": [
    "Con el objetivo de disminuir el sobreajuste, se procede a realizar cross-validation. Para ello, se divide el dataset en 5 partes o folds, y se entrena el modelo 5 veces, cada vez con una parte distinta como test y el resto como train. Se calcula la media de las métricas obtenidas en cada entrenamiento."
   ]
  },
  {
   "cell_type": "markdown",
   "metadata": {},
   "source": [
    "Utilizaremos la capa FC que mejores resultados nos ha proporcionado hasta ahora"
   ]
  },
  {
   "cell_type": "code",
   "execution_count": 2,
   "metadata": {},
   "outputs": [],
   "source": [
    "vgg16 = models.vgg16(weights='VGG16_Weights.IMAGENET1K_V1')\n",
    "vgg16.classifier[0] = nn.Linear(25088, 512)\n",
    "vgg16.classifier[3] = nn.Linear(512, 128)\n",
    "vgg16.classifier[6] = nn.Linear(128, 2)"
   ]
  },
  {
   "cell_type": "markdown",
   "metadata": {},
   "source": [
    "El modelo tendrá todas las capas convolutivas congeladas del vgg16, aunque solo reentrenaremos las tres últimas, ademas de la FC"
   ]
  },
  {
   "cell_type": "code",
   "execution_count": 3,
   "metadata": {},
   "outputs": [
    {
     "data": {
      "text/plain": [
       "Sequential(\n",
       "  (0): Sequential(\n",
       "    (24): Conv2d(512, 512, kernel_size=(3, 3), stride=(1, 1), padding=(1, 1))\n",
       "    (25): ReLU(inplace=True)\n",
       "    (26): Conv2d(512, 512, kernel_size=(3, 3), stride=(1, 1), padding=(1, 1))\n",
       "    (27): ReLU(inplace=True)\n",
       "    (28): Conv2d(512, 512, kernel_size=(3, 3), stride=(1, 1), padding=(1, 1))\n",
       "    (29): ReLU(inplace=True)\n",
       "    (30): MaxPool2d(kernel_size=2, stride=2, padding=0, dilation=1, ceil_mode=False)\n",
       "  )\n",
       "  (1): AdaptiveAvgPool2d(output_size=(7, 7))\n",
       "  (2): Flatten(start_dim=1, end_dim=-1)\n",
       "  (3): Sequential(\n",
       "    (0): Linear(in_features=25088, out_features=512, bias=True)\n",
       "    (1): ReLU(inplace=True)\n",
       "    (2): Dropout(p=0.5, inplace=False)\n",
       "    (3): Linear(in_features=512, out_features=128, bias=True)\n",
       "    (4): ReLU(inplace=True)\n",
       "    (5): Dropout(p=0.5, inplace=False)\n",
       "    (6): Linear(in_features=128, out_features=2, bias=True)\n",
       "  )\n",
       ")"
      ]
     },
     "execution_count": 3,
     "metadata": {},
     "output_type": "execute_result"
    }
   ],
   "source": [
    "vgg16 = nn.Sequential(\n",
    "    vgg16.features[24:],\n",
    "    vgg16.avgpool,\n",
    "    nn.Flatten(),\n",
    "    vgg16.classifier\n",
    ")\n",
    "\n",
    "vgg16.eval()"
   ]
  },
  {
   "cell_type": "markdown",
   "metadata": {},
   "source": [
    "Procedemos nuevamente con la carga del conjunto de datos y lo dividimos en train y test"
   ]
  },
  {
   "cell_type": "code",
   "execution_count": 5,
   "metadata": {},
   "outputs": [],
   "source": [
    "transform = transforms.Compose([\n",
    "    transforms.Resize((14, 14), antialias=None)\n",
    "])\n",
    "\n",
    "dataset = FeatureDataset(\"data/real_and_fake_conv_features\", transform=transform)"
   ]
  },
  {
   "cell_type": "code",
   "execution_count": 6,
   "metadata": {},
   "outputs": [],
   "source": [
    "train_size = int(0.8 * len(dataset))\n",
    "test_size = len(dataset) - train_size\n",
    "main_train_dataset, test_dataset = random_split(dataset, [train_size, test_size])"
   ]
  },
  {
   "cell_type": "code",
   "execution_count": 7,
   "metadata": {},
   "outputs": [],
   "source": [
    "test_loader = DataLoader(dataset=test_dataset, batch_size=32, shuffle=True)"
   ]
  },
  {
   "cell_type": "markdown",
   "metadata": {},
   "source": [
    "Utilizaremos el optimizador Adam, con regularización L2, y la función de pérdida Cross Entropy"
   ]
  },
  {
   "cell_type": "code",
   "execution_count": 8,
   "metadata": {},
   "outputs": [],
   "source": [
    "critereon = nn.CrossEntropyLoss()\n",
    "optimizer = optim.Adam(vgg16.parameters(), lr=0.0001, weight_decay=0.0001)"
   ]
  },
  {
   "cell_type": "code",
   "execution_count": 11,
   "metadata": {},
   "outputs": [],
   "source": [
    "def train_model(model, acc_training_set, acc_val_set, l1_factor, train_loader, val_loader):\n",
    "    for epoch in range(num_epochs):\n",
    "        for i, (image, label) in enumerate(train_loader, 1):\n",
    "            image = image.to(device)\n",
    "            label = label.to(device)\n",
    "\n",
    "            output = model(image)\n",
    "            loss = critereon(output, label)\n",
    "\n",
    "            l1_regularization = torch.tensor(0., requires_grad=False)\n",
    "            for param in model.parameters():\n",
    "                l1_regularization += torch.norm(param, 1)\n",
    "\n",
    "            l1_regularization.requires_grad_(True)\n",
    "            loss += l1_factor * l1_regularization\n",
    "\n",
    "            optimizer.zero_grad()\n",
    "            loss.backward()\n",
    "            optimizer.step()\n",
    "\n",
    "            if i % 10 == 0:\n",
    "                acc_training_set.append(accuracy(train_loader, model))\n",
    "                acc_val_set.append(accuracy(val_loader, model))\n",
    "\n",
    "                print('Epoch: {}/{}, Batch: {}, Loss: {:.6f}, Acc (train): {:.6f}, Acc (val): {:.6f}'\n",
    "                      .format(epoch+1, num_epochs, i, loss.item(), acc_training_set[-1], acc_val_set[-1]))"
   ]
  },
  {
   "cell_type": "markdown",
   "metadata": {},
   "source": [
    "Definimos el número de epochs por iteración del cross-validation y el factor de regularización L1."
   ]
  },
  {
   "cell_type": "code",
   "execution_count": 12,
   "metadata": {},
   "outputs": [],
   "source": [
    "num_epochs = 5\n",
    "l1_factor = 0.0001"
   ]
  },
  {
   "cell_type": "markdown",
   "metadata": {},
   "source": [
    "Definimos un número de folds de 5, e instanciamos el objeto encargado de realizar las divisiones del dataset para el cross-validation"
   ]
  },
  {
   "cell_type": "code",
   "execution_count": null,
   "metadata": {},
   "outputs": [],
   "source": [
    "k_folds = 5\n",
    "kf = KFold(n_splits=k_folds)"
   ]
  },
  {
   "cell_type": "code",
   "execution_count": 13,
   "metadata": {},
   "outputs": [
    {
     "name": "stdout",
     "output_type": "stream",
     "text": [
      "Training model for Fold:  1\n",
      "Epoch: 1/5, Batch: 10, Loss: 13.171456, Acc (train): 0.602299, Acc (val): 0.602446\n",
      "Epoch: 1/5, Batch: 20, Loss: 12.114272, Acc (train): 0.708046, Acc (val): 0.614679\n",
      "Epoch: 2/5, Batch: 10, Loss: 10.892790, Acc (train): 0.705747, Acc (val): 0.639144\n",
      "Epoch: 2/5, Batch: 20, Loss: 9.994629, Acc (train): 0.831418, Acc (val): 0.636086\n",
      "Epoch: 3/5, Batch: 10, Loss: 9.119398, Acc (train): 0.864368, Acc (val): 0.617737\n",
      "Epoch: 3/5, Batch: 20, Loss: 8.574831, Acc (train): 0.920307, Acc (val): 0.599388\n",
      "Epoch: 4/5, Batch: 10, Loss: 7.944198, Acc (train): 0.937931, Acc (val): 0.623853\n",
      "Epoch: 4/5, Batch: 20, Loss: 7.654681, Acc (train): 0.872797, Acc (val): 0.596330\n",
      "Epoch: 5/5, Batch: 10, Loss: 7.335693, Acc (train): 0.965517, Acc (val): 0.584098\n",
      "Epoch: 5/5, Batch: 20, Loss: 7.153099, Acc (train): 0.981609, Acc (val): 0.608563\n",
      "Training model for Fold:  2\n",
      "Epoch: 1/5, Batch: 10, Loss: 7.108799, Acc (train): 0.907280, Acc (val): 0.975535\n",
      "Epoch: 1/5, Batch: 20, Loss: 6.935646, Acc (train): 0.964751, Acc (val): 0.932722\n",
      "Epoch: 2/5, Batch: 10, Loss: 6.507357, Acc (train): 0.966284, Acc (val): 0.944954\n",
      "Epoch: 2/5, Batch: 20, Loss: 6.384888, Acc (train): 0.989272, Acc (val): 0.948012\n",
      "Epoch: 3/5, Batch: 10, Loss: 6.127371, Acc (train): 0.986207, Acc (val): 0.935780\n",
      "Epoch: 3/5, Batch: 20, Loss: 5.975930, Acc (train): 0.993103, Acc (val): 0.944954\n",
      "Epoch: 4/5, Batch: 10, Loss: 5.845043, Acc (train): 0.992337, Acc (val): 0.935780\n",
      "Epoch: 4/5, Batch: 20, Loss: 5.802217, Acc (train): 0.987739, Acc (val): 0.929664\n",
      "Epoch: 5/5, Batch: 10, Loss: 5.536695, Acc (train): 0.995402, Acc (val): 0.917431\n",
      "Epoch: 5/5, Batch: 20, Loss: 5.540221, Acc (train): 0.994636, Acc (val): 0.911315\n",
      "Training model for Fold:  3\n",
      "Epoch: 1/5, Batch: 10, Loss: 5.347166, Acc (train): 0.977029, Acc (val): 0.990798\n",
      "Epoch: 1/5, Batch: 20, Loss: 5.374029, Acc (train): 0.994640, Acc (val): 0.990798\n",
      "Epoch: 2/5, Batch: 10, Loss: 5.164689, Acc (train): 0.996937, Acc (val): 0.987730\n",
      "Epoch: 2/5, Batch: 20, Loss: 5.081718, Acc (train): 0.995406, Acc (val): 0.987730\n",
      "Epoch: 3/5, Batch: 10, Loss: 4.888174, Acc (train): 0.998469, Acc (val): 0.978528\n",
      "Epoch: 3/5, Batch: 20, Loss: 4.773721, Acc (train): 0.998469, Acc (val): 0.978528\n",
      "Epoch: 4/5, Batch: 10, Loss: 4.661637, Acc (train): 0.998469, Acc (val): 0.969325\n",
      "Epoch: 4/5, Batch: 20, Loss: 4.543413, Acc (train): 1.000000, Acc (val): 0.975460\n",
      "Epoch: 5/5, Batch: 10, Loss: 4.424566, Acc (train): 0.998469, Acc (val): 0.981595\n",
      "Epoch: 5/5, Batch: 20, Loss: 4.323770, Acc (train): 1.000000, Acc (val): 0.978528\n",
      "Training model for Fold:  4\n",
      "Epoch: 1/5, Batch: 10, Loss: 4.294758, Acc (train): 0.988515, Acc (val): 0.996933\n",
      "Epoch: 1/5, Batch: 20, Loss: 4.259443, Acc (train): 0.996937, Acc (val): 0.981595\n",
      "Epoch: 2/5, Batch: 10, Loss: 4.175125, Acc (train): 0.991577, Acc (val): 0.981595\n",
      "Epoch: 2/5, Batch: 20, Loss: 4.195769, Acc (train): 0.944104, Acc (val): 0.907975\n",
      "Epoch: 3/5, Batch: 10, Loss: 4.161287, Acc (train): 0.974732, Acc (val): 0.953988\n",
      "Epoch: 3/5, Batch: 20, Loss: 4.059612, Acc (train): 0.955590, Acc (val): 0.907975\n",
      "Epoch: 4/5, Batch: 10, Loss: 4.003067, Acc (train): 0.983155, Acc (val): 0.947853\n",
      "Epoch: 4/5, Batch: 20, Loss: 3.906843, Acc (train): 0.998469, Acc (val): 0.957055\n",
      "Epoch: 5/5, Batch: 10, Loss: 3.813686, Acc (train): 0.996172, Acc (val): 0.947853\n",
      "Epoch: 5/5, Batch: 20, Loss: 3.734902, Acc (train): 0.998469, Acc (val): 0.960123\n",
      "Training model for Fold:  5\n",
      "Epoch: 1/5, Batch: 10, Loss: 3.716217, Acc (train): 0.992343, Acc (val): 0.984663\n",
      "Epoch: 1/5, Batch: 20, Loss: 3.643342, Acc (train): 0.986217, Acc (val): 0.990798\n",
      "Epoch: 2/5, Batch: 10, Loss: 3.592027, Acc (train): 0.994640, Acc (val): 0.978528\n",
      "Epoch: 2/5, Batch: 20, Loss: 3.581706, Acc (train): 0.996937, Acc (val): 0.990798\n",
      "Epoch: 3/5, Batch: 10, Loss: 3.450089, Acc (train): 0.990812, Acc (val): 0.984663\n",
      "Epoch: 3/5, Batch: 20, Loss: 3.442191, Acc (train): 0.977795, Acc (val): 0.923313\n",
      "Epoch: 4/5, Batch: 10, Loss: 3.392845, Acc (train): 0.990812, Acc (val): 0.981595\n",
      "Epoch: 4/5, Batch: 20, Loss: 3.353293, Acc (train): 0.997703, Acc (val): 0.987730\n",
      "Epoch: 5/5, Batch: 10, Loss: 3.337761, Acc (train): 0.983155, Acc (val): 0.935583\n",
      "Epoch: 5/5, Batch: 20, Loss: 3.302498, Acc (train): 0.998469, Acc (val): 0.984663\n"
     ]
    }
   ],
   "source": [
    "acc_training_set = []\n",
    "acc_val_set = []\n",
    "\n",
    "for fold, (train_idx, val_idx) in enumerate(kf.split(main_train_dataset)):\n",
    "    print(\"Training model for Fold: \", fold+1)\n",
    "\n",
    "    train_dataset = torch.utils.data.Subset(main_train_dataset, train_idx)\n",
    "    val_dataset = torch.utils.data.Subset(main_train_dataset, val_idx)\n",
    "\n",
    "    train_loader = DataLoader(dataset=train_dataset, batch_size=64, shuffle=True)\n",
    "    val_loader = DataLoader(dataset=val_dataset, batch_size=64, shuffle=True)\n",
    "\n",
    "    train_model(acc_training_set, acc_val_set, l1_factor, train_loader, val_loader)"
   ]
  },
  {
   "cell_type": "code",
   "execution_count": 15,
   "metadata": {},
   "outputs": [
    {
     "name": "stdout",
     "output_type": "stream",
     "text": [
      "Se ha obtenido un accuracy del  58.924205378973106 % en el conjunto de test\n"
     ]
    }
   ],
   "source": [
    "acc = 0\n",
    "for i, (image, label) in enumerate(test_loader, 1):\n",
    "    image = image.to(device)\n",
    "    label = label.to(device)\n",
    "\n",
    "    output = vgg16(image)\n",
    "    acc += (torch.argmax(output, dim=1) == label).sum().item()\n",
    "\n",
    "print(\"Se ha obtenido un accuracy del \", acc/len(test_dataset)*100, \"% en el conjunto de test\")"
   ]
  },
  {
   "cell_type": "markdown",
   "metadata": {},
   "source": [
    "# Cross-validation + Data augmentation (Optimized)"
   ]
  },
  {
   "cell_type": "markdown",
   "metadata": {},
   "source": [
    "Para q tanto las transformaciones tan solo afecten al conjunto de entrenamiento, hemos de entrenar este modelo con el dataset original, y no con el dataset de entrenamiento que hemos creado con las características extraídas. Para ello, hemos de crear un nuevo modelo, que será el que utilicemos para entrenar con el dataset original."
   ]
  },
  {
   "cell_type": "code",
   "execution_count": 7,
   "metadata": {},
   "outputs": [],
   "source": [
    "vgg16 = models.vgg16(weights='VGG16_Weights.IMAGENET1K_V1')\n",
    "vgg16.classifier[0] = nn.Linear(25088, 512)\n",
    "vgg16.classifier[3] = nn.Linear(512, 128)\n",
    "vgg16.classifier[6] = nn.Linear(128, 2)"
   ]
  },
  {
   "cell_type": "markdown",
   "metadata": {},
   "source": [
    "Pondremos primeramente todos los parámetros de la red a no entrenables, y posteriormente, activamos los que queremos entrenar. Decidimos realizar fine tunning al modelo, esto es, entrenar el modelo desde las últimas capas convolucionales, ya que estas son las que detectan características más específicas de las imágenes, y no desde las primeras, que detectan características más generales."
   ]
  },
  {
   "cell_type": "code",
   "execution_count": 8,
   "metadata": {},
   "outputs": [],
   "source": [
    "vgg16 = nn.Sequential(\n",
    "    vgg16.features[24:],\n",
    "    vgg16.avgpool,\n",
    "    nn.Flatten(),\n",
    "    vgg16.classifier\n",
    ")"
   ]
  },
  {
   "cell_type": "markdown",
   "metadata": {},
   "source": [
    "Definimos a continuacion las transformaciones que aplicaremos a las imágenes del dataset de entrenamiento y test."
   ]
  },
  {
   "cell_type": "markdown",
   "metadata": {},
   "source": [
    "### Entrenamos el modelo"
   ]
  },
  {
   "cell_type": "markdown",
   "metadata": {},
   "source": [
    "Utilizaremos el optimizador Adam, con regularización L2 y learning rate de 0.0001, y la función de pérdida Cross Entropy"
   ]
  },
  {
   "cell_type": "code",
   "execution_count": 9,
   "metadata": {},
   "outputs": [],
   "source": [
    "critereon = nn.CrossEntropyLoss()\n",
    "optimizer = optim.Adam(vgg16.parameters(), lr=0.0001, weight_decay=0.0001)"
   ]
  },
  {
   "cell_type": "markdown",
   "metadata": {},
   "source": [
    "Definimos el número de epochs por iteración del cross-validation y el factor de regularización L1, así como el número de folds para el cross-validation"
   ]
  },
  {
   "cell_type": "code",
   "execution_count": 2,
   "metadata": {},
   "outputs": [],
   "source": [
    "num_epochs = 5\n",
    "l1_factor = 0.0001"
   ]
  },
  {
   "cell_type": "code",
   "execution_count": 3,
   "metadata": {},
   "outputs": [],
   "source": [
    "k_folds = 5"
   ]
  },
  {
   "cell_type": "markdown",
   "metadata": {},
   "source": [
    "Y comenzamos el entrenamiento"
   ]
  },
  {
   "cell_type": "code",
   "execution_count": 27,
   "metadata": {},
   "outputs": [],
   "source": [
    "transform = transforms.Compose([\n",
    "    transforms.Resize((14, 14), antialias=None)\n",
    "])"
   ]
  },
  {
   "cell_type": "code",
   "execution_count": 19,
   "metadata": {},
   "outputs": [
    {
     "name": "stdout",
     "output_type": "stream",
     "text": [
      "Training model for Fold:  1\n",
      "Epoch: 1/10, Loss: 12.809517, Acc (train): 0.685824, Acc (val): 0.522936\n",
      "Epoch: 2/10, Loss: 11.247224, Acc (train): 0.791571, Acc (val): 0.584098\n",
      "Epoch: 3/10, Loss: 10.168658, Acc (train): 0.906513, Acc (val): 0.599388\n",
      "Epoch: 4/10, Loss: 9.328836, Acc (train): 0.954023, Acc (val): 0.581040\n",
      "Epoch: 5/10, Loss: 8.970426, Acc (train): 0.974713, Acc (val): 0.605505\n",
      "Epoch: 6/10, Loss: 8.419056, Acc (train): 0.944828, Acc (val): 0.571865\n",
      "Epoch: 7/10, Loss: 7.892972, Acc (train): 0.970115, Acc (val): 0.529052\n",
      "Epoch: 8/10, Loss: 7.375147, Acc (train): 0.989272, Acc (val): 0.565749\n",
      "Epoch: 9/10, Loss: 6.994917, Acc (train): 0.997701, Acc (val): 0.593272\n",
      "Epoch: 10/10, Loss: 6.659577, Acc (train): 0.998467, Acc (val): 0.593272\n",
      "Training model for Fold:  2\n",
      "Epoch: 1/10, Loss: 7.112895, Acc (train): 0.626054, Acc (val): 0.574924\n",
      "Epoch: 2/10, Loss: 6.711185, Acc (train): 0.799234, Acc (val): 0.611621\n",
      "Epoch: 3/10, Loss: 6.467117, Acc (train): 0.843678, Acc (val): 0.623853\n",
      "Epoch: 4/10, Loss: 6.239346, Acc (train): 0.831418, Acc (val): 0.593272\n",
      "Epoch: 5/10, Loss: 5.755774, Acc (train): 0.977778, Acc (val): 0.611621\n",
      "Epoch: 6/10, Loss: 5.427613, Acc (train): 0.989272, Acc (val): 0.629969\n",
      "Epoch: 7/10, Loss: 5.329061, Acc (train): 0.993103, Acc (val): 0.654434\n",
      "Epoch: 8/10, Loss: 5.052724, Acc (train): 0.992337, Acc (val): 0.648318\n",
      "Epoch: 9/10, Loss: 4.844953, Acc (train): 0.993870, Acc (val): 0.614679\n",
      "Epoch: 10/10, Loss: 4.632225, Acc (train): 0.996935, Acc (val): 0.617737\n",
      "Training model for Fold:  3\n",
      "Epoch: 1/10, Loss: 5.233062, Acc (train): 0.724138, Acc (val): 0.648318\n",
      "Epoch: 2/10, Loss: 4.872582, Acc (train): 0.835249, Acc (val): 0.654434\n",
      "Epoch: 3/10, Loss: 4.618014, Acc (train): 0.930268, Acc (val): 0.685015\n",
      "Epoch: 4/10, Loss: 4.491878, Acc (train): 0.965517, Acc (val): 0.663609\n",
      "Epoch: 5/10, Loss: 4.186259, Acc (train): 0.986207, Acc (val): 0.660550\n",
      "Epoch: 6/10, Loss: 4.081017, Acc (train): 0.930268, Acc (val): 0.678899\n",
      "Epoch: 7/10, Loss: 3.965800, Acc (train): 0.990038, Acc (val): 0.669725\n",
      "Epoch: 8/10, Loss: 3.850371, Acc (train): 0.985441, Acc (val): 0.660550\n",
      "Epoch: 9/10, Loss: 3.689715, Acc (train): 0.995402, Acc (val): 0.636086\n",
      "Epoch: 10/10, Loss: 3.589358, Acc (train): 0.998467, Acc (val): 0.675841\n",
      "Training model for Fold:  4\n",
      "Epoch: 1/10, Loss: 4.137313, Acc (train): 0.663602, Acc (val): 0.581040\n",
      "Epoch: 2/10, Loss: 3.983255, Acc (train): 0.826820, Acc (val): 0.633028\n",
      "Epoch: 3/10, Loss: 3.666113, Acc (train): 0.832950, Acc (val): 0.608563\n",
      "Epoch: 4/10, Loss: 3.617542, Acc (train): 0.957854, Acc (val): 0.639144\n",
      "Epoch: 5/10, Loss: 3.392210, Acc (train): 0.980843, Acc (val): 0.645260\n",
      "Epoch: 6/10, Loss: 3.212855, Acc (train): 0.966284, Acc (val): 0.639144\n",
      "Epoch: 7/10, Loss: 3.164890, Acc (train): 0.986973, Acc (val): 0.669725\n",
      "Epoch: 8/10, Loss: 3.076829, Acc (train): 0.992337, Acc (val): 0.645260\n",
      "Epoch: 9/10, Loss: 2.944578, Acc (train): 0.989272, Acc (val): 0.633028\n",
      "Epoch: 10/10, Loss: 2.860378, Acc (train): 0.995402, Acc (val): 0.669725\n",
      "Training model for Fold:  5\n",
      "Epoch: 1/10, Loss: 3.592259, Acc (train): 0.767816, Acc (val): 0.718654\n",
      "Epoch: 2/10, Loss: 3.336763, Acc (train): 0.895785, Acc (val): 0.709480\n",
      "Epoch: 3/10, Loss: 3.166667, Acc (train): 0.909579, Acc (val): 0.709480\n",
      "Epoch: 4/10, Loss: 2.854020, Acc (train): 0.977778, Acc (val): 0.700306\n",
      "Epoch: 5/10, Loss: 2.714844, Acc (train): 0.981609, Acc (val): 0.718654\n",
      "Epoch: 6/10, Loss: 2.673486, Acc (train): 0.992337, Acc (val): 0.727829\n",
      "Epoch: 7/10, Loss: 2.591851, Acc (train): 0.998467, Acc (val): 0.721713\n",
      "Epoch: 8/10, Loss: 2.498553, Acc (train): 0.997701, Acc (val): 0.724771\n",
      "Epoch: 9/10, Loss: 2.414793, Acc (train): 0.999234, Acc (val): 0.706422\n",
      "Epoch: 10/10, Loss: 2.404986, Acc (train): 0.991571, Acc (val): 0.712538\n"
     ]
    }
   ],
   "source": [
    "acc_training_set = []\n",
    "acc_val_set = []\n",
    "\n",
    "for fold in range(k_folds):\n",
    "    print(\"Training model for Fold: \", fold+1)\n",
    "    dataset = FeatureDataset(f\"data/real_and_fake_vgg16_data_augmentation/train_{fold}/\", transform=transform)\n",
    "\n",
    "    train_size = int(0.8 * len(dataset))\n",
    "    val_size = len(dataset) - train_size\n",
    "    train_dataset, val_dataset = random_split(dataset, [train_size, val_size])\n",
    "\n",
    "    train_loader = DataLoader(dataset=train_dataset, batch_size=64, shuffle=True)\n",
    "    val_loader = DataLoader(dataset=val_dataset, batch_size=64, shuffle=True)\n",
    "\n",
    "    train_model(acc_training_set, acc_val_set, l1_factor, train_loader, val_loader)"
   ]
  },
  {
   "attachments": {
    "vgg16_folds.png": {
     "image/png": "[encoded data removed]"
    }
   },
   "cell_type": "markdown",
   "metadata": {},
   "source": [
    "![vgg16_folds.png](attachment:vgg16_folds.png)"
   ]
  },
  {
   "cell_type": "code",
   "execution_count": 35,
   "metadata": {},
   "outputs": [],
   "source": [
    "vgg16.requires_grad_(False)\n",
    "torch.save(vgg16.state_dict(), \"models/vgg16_24_5fold_10epoch.pt\")"
   ]
  },
  {
   "cell_type": "markdown",
   "metadata": {},
   "source": [
    "## Recostrucción del modelo"
   ]
  },
  {
   "cell_type": "markdown",
   "metadata": {},
   "source": [
    "Reconstuimos el modelo original, sustituyendo las capas más específicas por las que hemos entrenado"
   ]
  },
  {
   "cell_type": "code",
   "execution_count": 40,
   "metadata": {},
   "outputs": [],
   "source": [
    "model = nn.Sequential(\n",
    "    models.vgg16(weights='VGG16_Weights.IMAGENET1K_V1').features[:24],\n",
    "    vgg16\n",
    ")"
   ]
  },
  {
   "cell_type": "code",
   "execution_count": 41,
   "metadata": {},
   "outputs": [],
   "source": [
    "classes = ['fake', 'real']"
   ]
  },
  {
   "cell_type": "markdown",
   "metadata": {},
   "source": [
    "Comprobamos que el modelo compilado funciona correctamente con el dataset de imágenes"
   ]
  },
  {
   "cell_type": "code",
   "execution_count": 42,
   "metadata": {},
   "outputs": [],
   "source": [
    "transform = transforms.Compose([\n",
    "    transforms.Resize((224, 224)),\n",
    "    transforms.ToTensor(),\n",
    "    transforms.Normalize(\n",
    "        mean=[0.485, 0.456, 0.406],\n",
    "        std=[0.299, 0.224, 0.225]\n",
    "    )\n",
    "])"
   ]
  },
  {
   "cell_type": "code",
   "execution_count": 46,
   "metadata": {},
   "outputs": [
    {
     "name": "stdout",
     "output_type": "stream",
     "text": [
      "La clase predicha es: fake\n"
     ]
    }
   ],
   "source": [
    "path = 'data/real_and_fake_face/training_fake/easy_110_0001.jpg'\n",
    "img = Image.open(path)\n",
    "\n",
    "img = transform(img)\n",
    "img = img.unsqueeze(0)\n",
    "\n",
    "out = model(img)\n",
    "print(\"La clase predicha es:\", classes[torch.argmax(out, dim=1)])"
   ]
  },
  {
   "cell_type": "code",
   "execution_count": 47,
   "metadata": {},
   "outputs": [],
   "source": [
    "dataset = torchvision.datasets.ImageFolder(\n",
    "    root='data/real_and_fake_face',\n",
    "    transform=transform\n",
    ")"
   ]
  },
  {
   "cell_type": "code",
   "execution_count": 49,
   "metadata": {},
   "outputs": [],
   "source": [
    "data_loader = DataLoader(dataset=dataset, batch_size=32, shuffle=True)"
   ]
  },
  {
   "cell_type": "code",
   "execution_count": 50,
   "metadata": {},
   "outputs": [
    {
     "name": "stdout",
     "output_type": "stream",
     "text": [
      "Se ha obtenido un accuracy del  76.04115629593336 % en el conjunto de test\n"
     ]
    }
   ],
   "source": [
    "acc = 0\n",
    "for i, (image, label) in enumerate(data_loader, 1):\n",
    "    image = image.to(device)\n",
    "    label = label.to(device)\n",
    "\n",
    "    output = model(image)\n",
    "    acc += (torch.argmax(output, dim=1) == label).sum().item()\n",
    "\n",
    "print(\"Se ha obtenido un accuracy del \", acc/len(dataset)*100, \"% en el conjunto de test\")"
   ]
  }
 ],
 "metadata": {
  "kernelspec": {
   "display_name": "Python 3",
   "language": "python",
   "name": "python3"
  },
  "language_info": {
   "codemirror_mode": {
    "name": "ipython",
    "version": 3
   },
   "file_extension": ".py",
   "mimetype": "text/x-python",
   "name": "python",
   "nbconvert_exporter": "python",
   "pygments_lexer": "ipython3",
   "version": "3.9.16"
  }
 },
 "nbformat": 4,
 "nbformat_minor": 2
}
